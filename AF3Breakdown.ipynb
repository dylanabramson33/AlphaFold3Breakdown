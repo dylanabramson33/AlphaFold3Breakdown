{
  "nbformat": 4,
  "nbformat_minor": 0,
  "metadata": {
    "colab": {
      "provenance": [],
      "toc_visible": true,
      "authorship_tag": "ABX9TyNG3Daj8y056F1Zcw4dcqbr",
      "include_colab_link": true
    },
    "kernelspec": {
      "name": "python3",
      "display_name": "Python 3"
    },
    "language_info": {
      "name": "python"
    }
  },
  "cells": [
    {
      "cell_type": "markdown",
      "metadata": {
        "id": "view-in-github",
        "colab_type": "text"
      },
      "source": [
        "<a href=\"https://colab.research.google.com/github/dylanabramson33/AlphaFold3Breakdown/blob/main/AF3Breakdown.ipynb\" target=\"_parent\"><img src=\"https://colab.research.google.com/assets/colab-badge.svg\" alt=\"Open In Colab\"/></a>"
      ]
    },
    {
      "cell_type": "code",
      "execution_count": null,
      "metadata": {
        "colab": {
          "base_uri": "https://localhost:8080/"
        },
        "id": "61uVOkMLK_33",
        "outputId": "f351bde3-4ffb-4cb5-93c9-116bb2553f82"
      },
      "outputs": [
        {
          "output_type": "stream",
          "name": "stdout",
          "text": [
            "Collecting rdkit\n",
            "  Downloading rdkit-2023.9.6-cp310-cp310-manylinux_2_17_x86_64.manylinux2014_x86_64.whl (34.9 MB)\n",
            "\u001b[2K     \u001b[90m━━━━━━━━━━━━━━━━━━━━━━━━━━━━━━━━━━━━━━━━\u001b[0m \u001b[32m34.9/34.9 MB\u001b[0m \u001b[31m29.5 MB/s\u001b[0m eta \u001b[36m0:00:00\u001b[0m\n",
            "\u001b[?25hRequirement already satisfied: numpy in /usr/local/lib/python3.10/dist-packages (from rdkit) (1.25.2)\n",
            "Requirement already satisfied: Pillow in /usr/local/lib/python3.10/dist-packages (from rdkit) (9.4.0)\n",
            "Installing collected packages: rdkit\n",
            "Successfully installed rdkit-2023.9.6\n"
          ]
        }
      ],
      "source": [
        "!pip install rdkit"
      ]
    },
    {
      "cell_type": "code",
      "source": [
        "POSEBUSTERS_BENCHMARK_SET = [\n",
        "    \"5SAK ZRY\", \"5SB2 1K2\", \"5SD5 HWI\", \"5SIS JSM\", \"6M2B EZO\", \"6M73 FNR\", \"6T88 MWQ\", \"6TW5 9M2\",\n",
        "    \"6TW7 NZB\", \"6VTA AKN\", \"6WTN RXT\", \"6XBO 5MC\", \"6XCT 478\", \"6XG5 TOP\", \"6XHT V2V\", \"6XM9 V55\",\n",
        "    \"6YJA 2BA\", \"6YMS OZH\", \"6YQV 8K2\", \"6YQW 82I\", \"6YR2 T1C\", \"6YRV PJ8\", \"6YSP PAL\", \"6YT6 PKE\",\n",
        "    \"6YYO Q1K\", \"6Z0R Q4H\", \"6Z14 Q4Z\", \"6Z1C 7EY\", \"6Z2C Q5E\", \"6Z4N Q7B\", \"6ZAE ACV\", \"6ZC3 JOR\",\n",
        "    \"6ZCY QF8\", \"6ZK5 IMH\", \"6ZPB 3D1\", \"7A1P QW2\", \"7A9E R4W\", \"7A9H TPP\", \"7AFX R9K\", \"7AKL RK5\",\n",
        "    \"7AN5 RDH\", \"7B2C TP7\", \"7B94 ANP\", \"7BCP GCO\", \"7BJJ TVW\", \"7BKA 4JC\", \"7BMI U4B\", \"7BNH BEZ\",\n",
        "    \"7BTT F8R\", \"7C0U FGO\", \"7C3U AZG\", \"7C8Q DSG\", \"7CD9 FVR\", \"7CIJ G0C\", \"7CL8 TES\", \"7CNQ G8X\",\n",
        "    \"7CNS PMV\", \"7CTM BDP\", \"7CUO PHB\", \"7D5C GV6\", \"7D6O MTE\", \"7DKT GLF\", \"7DQL 4CL\", \"7DUA HJ0\",\n",
        "    \"7E4L MDN\", \"7EBG J0L\", \"7ECR SIN\", \"7ED2 A3P\", \"7ELT TYM\", \"7EPV FDA\", \"7ES1 UDP\", \"7F51 BA7\",\n",
        "    \"7F5D EUO\", \"7F8T FAD\", \"7FB7 8NF\", \"7FHA ADX\", \"7FRX O88\", \"7FT9 4MB\", \"7JG0 GAR\", \"7JHQ VAJ\",\n",
        "    \"7JMV 4NC\", \"7JXX VP7\", \"7JY3 VUD\", \"7K0V VQP\", \"7KB1 WBJ\", \"7KC5 BJZ\", \"7KM8 WPD\", \"7KQU YOF\",\n",
        "    \"7KRU ATP\", \"7KZ9 XN7\", \"7L00 XCJ\", \"7L03 F9F\", \"7L5F XNG\", \"7L7C XQ1\", \"7LCU XTA\", \"7LEV 0JO\",\n",
        "    \"7LJN GTP\", \"7LMO NYO\", \"7LOE Y84\", \"7LOU IFM\", \"7LT0 ONJ\", \"7LZD YHY\", \"7M31 TDR\", \"7M3H YPV\",\n",
        "    \"7M6K YRJ\", \"7MFP Z7P\", \"7MGT ZD4\", \"7MGY ZD1\", \"7MMH ZJY\", \"7MOI HPS\", \"7MSR DCA\", \"7MWN WI5\",\n",
        "    \"7MWU ZPM\", \"7MY1 IPE\", \"7MYU ZR7\", \"7N03 ZRP\", \"7N4N 0BK\", \"7N4W P4V\", \"7N6F 0I1\", \"7N7B T3F\",\n",
        "    \"7N7H CTP\", \"7NF0 BYN\", \"7NF3 4LU\", \"7NFB GEN\", \"7NGW UAW\", \"7NLV UJE\", \"7NP6 UK8\", \"7NPL UKZ\",\n",
        "    \"7NR8 UOE\", \"7NSW HC4\", \"7NU0 DCL\", \"7NUT GLP\", \"7NXO UU8\", \"7O0N CDP\", \"7O1T 5X8\", \"7ODY DGI\",\n",
        "    \"7OEO V9Z\", \"7OFF VCB\", \"7OFK VCH\", \"7OLI 8HG\", \"7OMX CNA\", \"7OP9 06K\", \"7OPG 06N\", \"7OSO 0V1\",\n",
        "    \"7OZ9 NGK\", \"7OZC G6S\", \"7P1F KFN\", \"7P1M 4IU\", \"7P2I MFU\", \"7P4C 5OV\", \"7P5T 5YG\", \"7PGX FMN\",\n",
        "    \"7PIH 7QW\", \"7PJQ OWH\", \"7PK0 BYC\", \"7PL1 SFG\", \"7POM 7VZ\", \"7PRI 7TI\", \"7PRM 81I\", \"7PT3 3KK\",\n",
        "    \"7PUV 84Z\", \"7Q25 8J9\", \"7Q27 8KC\", \"7Q2B M6H\", \"7Q5I I0F\", \"7QE4 NGA\", \"7QF4 RBF\", \"7QFM AY3\",\n",
        "    \"7QGP DJ8\", \"7QHG T3B\", \"7QHL D5P\", \"7QPP VDX\", \"7QTA URI\", \"7R3D APR\", \"7R59 I5F\", \"7R6J 2I7\",\n",
        "    \"7R7R AWJ\", \"7R9N F97\", \"7RC3 SAH\", \"7RH3 59O\", \"7RKW 5TV\", \"7RNI 60I\", \"7ROR 69X\", \"7ROU 66I\",\n",
        "    \"7RSV 7IQ\", \"7RWS 4UR\", \"7RZL NPO\", \"7SCW GSP\", \"7SDD 4IP\", \"7SFO 98L\", \"7SIU 9ID\", \"7SUC COM\",\n",
        "    \"7SZA DUI\", \"7T0D FPP\", \"7T1D E7K\", \"7T3E SLB\", \"7TB0 UD1\", \"7TBU S3P\", \"7TE8 P0T\", \"7TH4 FFO\",\n",
        "    \"7THI PGA\", \"7TM6 GPJ\", \"7TOM 5AD\", \"7TS6 KMI\", \"7TSF H4B\", \"7TUO KL9\", \"7TXK LW8\", \"7TYP KUR\",\n",
        "    \"7U0U FK5\", \"7U3J L6U\", \"7UAS MBU\", \"7UAW MF6\", \"7UJ4 OQ4\", \"7UJ5 DGL\", \"7UJF R3V\", \"7ULC 56B\",\n",
        "    \"7UMW NAD\", \"7UQ3 O2U\", \"7USH 82V\", \"7UTW NAI\", \"7UXS OJC\", \"7UY4 SMI\", \"7UYB OK0\", \"7V14 ORU\",\n",
        "    \"7V3N AKG\", \"7V3S 5I9\", \"7V43 C4O\", \"7VB8 STL\", \"7VBU 6I4\", \"7VC5 9SF\", \"7VKZ NOJ\", \"7VQ9 ISY\",\n",
        "    \"7VWF K55\", \"7VYJ CA0\", \"7W05 GMP\", \"7W06 ITN\", \"7WCF ACP\", \"7WDT NGS\", \"7WJB BGC\", \"7WKL CAQ\",\n",
        "    \"7WL4 JFU\", \"7WPW F15\", \"7WQQ 5Z6\", \"7WUX 6OI\", \"7WUY 76N\", \"7WY1 D0L\", \"7X5N 5M5\", \"7X9K 8OG\",\n",
        "    \"7XBV APC\", \"7XFA D9J\", \"7XG5 PLP\", \"7XI7 4RI\", \"7XJN NSD\", \"7XPO UPG\", \"7XQZ FPF\", \"7XRL FWK\",\n",
        "    \"7YZU DO7\", \"7Z1Q NIO\", \"7Z2O IAJ\", \"7Z7F IF3\", \"7ZCC OGA\", \"7ZDY 6MJ\", \"7ZF0 DHR\", \"7ZHP IQY\",\n",
        "    \"7ZL5 IWE\", \"7ZOC T8E\", \"7ZTL BCN\", \"7ZU2 DHT\", \"7ZXV 45D\", \"7ZZW KKW\", \"8A1H DLZ\", \"8A2D KXY\",\n",
        "    \"8AAU LH0\", \"8AEM LVF\", \"8AIE M7L\", \"8AP0 PRP\", \"8AQL PLG\", \"8AUH L9I\", \"8AY3 OE3\", \"8B8H OJQ\",\n",
        "    \"8BOM QU6\", \"8BTI RFO\", \"8C3N ADP\", \"8C5M MTA\", \"8CNH V6U\", \"8CSD C5P\", \"8D19 GSH\", \"8D39 QDB\",\n",
        "    \"8D5D 5DK\", \"8DHG T78\", \"8DKO TFB\", \"8DP2 UMA\", \"8DSC NCA\", \"8EAB VN2\", \"8EX2 Q2Q\", \"8EXL 799\",\n",
        "    \"8EYE X4I\", \"8F4J PHO\", \"8F8E XJI\", \"8FAV 4Y5\", \"8FLV ZB9\", \"8FO5 Y4U\", \"8G0V YHT\", \"8G6P API\",\n",
        "    \"8GFD ZHR\", \"8HFN XGC\", \"8HO0 3ZI\", \"8SLG G5A\"\n",
        "]"
      ],
      "metadata": {
        "id": "P-cLE4HEU75M"
      },
      "execution_count": 18,
      "outputs": []
    },
    {
      "cell_type": "code",
      "source": [
        "pdb_codes = [x.split(\" \")[0] for x in POSEBUSTERS_BENCHMARK_SET]\n",
        "ligand_codes = [x.split(\" \")[1] for x in POSEBUSTERS_BENCHMARK_SET]"
      ],
      "metadata": {
        "id": "y5a8mRm1Z3tp"
      },
      "execution_count": 19,
      "outputs": []
    },
    {
      "cell_type": "code",
      "source": [
        "import requests\n",
        "\n",
        "def get_smiles_by_id(component_id):\n",
        "    # Retrieve chemical component information using RCSB PDB API\n",
        "    url = f\"https://data.rcsb.org/rest/v1/core/chemcomp/{component_id}\"\n",
        "    response = requests.get(url)\n",
        "\n",
        "    if response.status_code == 200:\n",
        "        data = response.json()\n",
        "        smiles = data[\"rcsb_chem_comp_descriptor\"][\"smiles\"]\n",
        "        return smiles\n",
        "    else:\n",
        "        print(f\"Error retrieving chemical component information for {component_id}\")\n",
        "        return None\n",
        "\n",
        "# Example usage\n",
        "smiles = [get_smiles_by_id(x) for x in ligand_codes]"
      ],
      "metadata": {
        "id": "jt9fFgkEax7L"
      },
      "execution_count": 24,
      "outputs": []
    },
    {
      "cell_type": "code",
      "source": [
        "import requests\n",
        "from rdkit import Chem\n",
        "from rdkit.Chem import AllChem\n",
        "\n",
        "def fetch_similar_pdbs(smiles, similarity_threshold=0.7):\n",
        "    # Convert SMILES to Morgan fingerprint\n",
        "    # Perform similarity search using RCSB PDB API\n",
        "    url = \"https://search.rcsb.org/rcsbsearch/v2/query\"\n",
        "    query = {\n",
        "        \"query\": {\n",
        "            \"type\": \"terminal\",\n",
        "            \"service\": \"chemical\",\n",
        "            \"parameters\": {\n",
        "                \"value\": smiles,\n",
        "                \"type\": \"descriptor\",\n",
        "                \"descriptor_type\": \"SMILES\",\n",
        "                \"fingerprint-similarity\": \"Tanimoto\",\n",
        "                # \"similarity_cutoff\": similarity_threshold\n",
        "            }\n",
        "        },\n",
        "        \"return_type\": \"entry\"\n",
        "    }\n",
        "    response = requests.post(url, json=query)\n",
        "    print(response.text)\n",
        "    data = response.json()\n",
        "\n",
        "    # Extract PDB IDs from the response\n",
        "    pdb_ids = [hit[\"identifier\"] for hit in data[\"result_set\"]]\n",
        "\n",
        "    return pdb_ids\n",
        "\n",
        "# Example usage\n",
        "smiles = \"CC(=O)Oc1ccccc1C(=O)O\"  # Aspirin\n",
        "similar_pdbs = fetch_similar_pdbs(smiles, similarity_threshold=0.8)\n",
        "print(\"Similar PDB structures:\", similar_pdbs)"
      ],
      "metadata": {
        "id": "i6MqTMy_bkdm",
        "colab": {
          "base_uri": "https://localhost:8080/",
          "height": 432
        },
        "outputId": "cebf218a-b965-47bc-9bad-85cf9d0ca39e"
      },
      "execution_count": 29,
      "outputs": [
        {
          "output_type": "stream",
          "name": "stdout",
          "text": [
            "{\"status\":400,\"message\":\"JSON schema validation failed for query: {\\\"query\\\":{\\\"type\\\":\\\"terminal\\\",\\\"service\\\":\\\"chemical\\\",\\\"parameters\\\":{\\\"value\\\":\\\"CC(=O)Oc1ccccc1C(=O)O\\\",\\\"type\\\":\\\"descriptor\\\",\\\"descriptor_type\\\":\\\"SMILES\\\",\\\"fingerprint-similarity\\\":\\\"Tanimoto\\\"}},\\\"return_type\\\":\\\"entry\\\",\\\"request_info\\\":{\\\"query_id\\\":\\\"3906bda5-2a17-4f7f-aa7a-6904f9bae633\\\"},\\\"request_options\\\":{\\\"sort\\\":[{\\\"sort_by\\\":\\\"score\\\",\\\"direction\\\":\\\"desc\\\"}],\\\"paginate\\\":{\\\"start\\\":0,\\\"rows\\\":10},\\\"scoring_strategy\\\":\\\"combined\\\"}}. Errors: instance failed to match exactly one schema (matched 0 out of 2).\",\"link\":\"https://search.rcsb.org/redoc/index.html\"}\n"
          ]
        },
        {
          "output_type": "error",
          "ename": "KeyError",
          "evalue": "'result_set'",
          "traceback": [
            "\u001b[0;31m---------------------------------------------------------------------------\u001b[0m",
            "\u001b[0;31mKeyError\u001b[0m                                  Traceback (most recent call last)",
            "\u001b[0;32m<ipython-input-29-b0e46e6af019>\u001b[0m in \u001b[0;36m<cell line: 34>\u001b[0;34m()\u001b[0m\n\u001b[1;32m     32\u001b[0m \u001b[0;31m# Example usage\u001b[0m\u001b[0;34m\u001b[0m\u001b[0;34m\u001b[0m\u001b[0m\n\u001b[1;32m     33\u001b[0m \u001b[0msmiles\u001b[0m \u001b[0;34m=\u001b[0m \u001b[0;34m\"CC(=O)Oc1ccccc1C(=O)O\"\u001b[0m  \u001b[0;31m# Aspirin\u001b[0m\u001b[0;34m\u001b[0m\u001b[0;34m\u001b[0m\u001b[0m\n\u001b[0;32m---> 34\u001b[0;31m \u001b[0msimilar_pdbs\u001b[0m \u001b[0;34m=\u001b[0m \u001b[0mfetch_similar_pdbs\u001b[0m\u001b[0;34m(\u001b[0m\u001b[0msmiles\u001b[0m\u001b[0;34m,\u001b[0m \u001b[0msimilarity_threshold\u001b[0m\u001b[0;34m=\u001b[0m\u001b[0;36m0.8\u001b[0m\u001b[0;34m)\u001b[0m\u001b[0;34m\u001b[0m\u001b[0;34m\u001b[0m\u001b[0m\n\u001b[0m\u001b[1;32m     35\u001b[0m \u001b[0mprint\u001b[0m\u001b[0;34m(\u001b[0m\u001b[0;34m\"Similar PDB structures:\"\u001b[0m\u001b[0;34m,\u001b[0m \u001b[0msimilar_pdbs\u001b[0m\u001b[0;34m)\u001b[0m\u001b[0;34m\u001b[0m\u001b[0;34m\u001b[0m\u001b[0m\n",
            "\u001b[0;32m<ipython-input-29-b0e46e6af019>\u001b[0m in \u001b[0;36mfetch_similar_pdbs\u001b[0;34m(smiles, similarity_threshold)\u001b[0m\n\u001b[1;32m     26\u001b[0m \u001b[0;34m\u001b[0m\u001b[0m\n\u001b[1;32m     27\u001b[0m     \u001b[0;31m# Extract PDB IDs from the response\u001b[0m\u001b[0;34m\u001b[0m\u001b[0;34m\u001b[0m\u001b[0m\n\u001b[0;32m---> 28\u001b[0;31m     \u001b[0mpdb_ids\u001b[0m \u001b[0;34m=\u001b[0m \u001b[0;34m[\u001b[0m\u001b[0mhit\u001b[0m\u001b[0;34m[\u001b[0m\u001b[0;34m\"identifier\"\u001b[0m\u001b[0;34m]\u001b[0m \u001b[0;32mfor\u001b[0m \u001b[0mhit\u001b[0m \u001b[0;32min\u001b[0m \u001b[0mdata\u001b[0m\u001b[0;34m[\u001b[0m\u001b[0;34m\"result_set\"\u001b[0m\u001b[0;34m]\u001b[0m\u001b[0;34m]\u001b[0m\u001b[0;34m\u001b[0m\u001b[0;34m\u001b[0m\u001b[0m\n\u001b[0m\u001b[1;32m     29\u001b[0m \u001b[0;34m\u001b[0m\u001b[0m\n\u001b[1;32m     30\u001b[0m     \u001b[0;32mreturn\u001b[0m \u001b[0mpdb_ids\u001b[0m\u001b[0;34m\u001b[0m\u001b[0;34m\u001b[0m\u001b[0m\n",
            "\u001b[0;31mKeyError\u001b[0m: 'result_set'"
          ]
        }
      ]
    },
    {
      "cell_type": "code",
      "source": [],
      "metadata": {
        "id": "XMMFWX8316x7"
      },
      "execution_count": null,
      "outputs": []
    },
    {
      "cell_type": "code",
      "source": [],
      "metadata": {
        "id": "c1xWxQocPUWy"
      },
      "execution_count": null,
      "outputs": []
    }
  ]
}