{
  "nbformat": 4,
  "nbformat_minor": 0,
  "metadata": {
    "colab": {
      "provenance": [],
      "toc_visible": true,
      "authorship_tag": "ABX9TyPODaKvTNGDT1NFX5suSi6a",
      "include_colab_link": true
    },
    "kernelspec": {
      "name": "python3",
      "display_name": "Python 3"
    },
    "language_info": {
      "name": "python"
    }
  },
  "cells": [
    {
      "cell_type": "markdown",
      "metadata": {
        "id": "view-in-github",
        "colab_type": "text"
      },
      "source": [
        "<a href=\"https://colab.research.google.com/github/dylanabramson33/AlphaFold3Breakdown/blob/main/AF3Breakdown.ipynb\" target=\"_parent\"><img src=\"https://colab.research.google.com/assets/colab-badge.svg\" alt=\"Open In Colab\"/></a>"
      ]
    },
    {
      "cell_type": "code",
      "execution_count": null,
      "metadata": {
        "id": "61uVOkMLK_33"
      },
      "outputs": [],
      "source": [
        "!pip install rdkit"
      ]
    },
    {
      "cell_type": "markdown",
      "source": [
        "# Fetch PDBS containing similar ligands to test set using tanimoto similarity"
      ],
      "metadata": {
        "id": "SufKuhGY9LEF"
      }
    },
    {
      "cell_type": "code",
      "source": [
        "POSEBUSTERS_BENCHMARK_SET = [\n",
        "    \"5SAK ZRY\", \"5SB2 1K2\", \"5SD5 HWI\", \"5SIS JSM\", \"6M2B EZO\", \"6M73 FNR\", \"6T88 MWQ\", \"6TW5 9M2\",\n",
        "    \"6TW7 NZB\", \"6VTA AKN\", \"6WTN RXT\", \"6XBO 5MC\", \"6XCT 478\", \"6XG5 TOP\", \"6XHT V2V\", \"6XM9 V55\",\n",
        "    \"6YJA 2BA\", \"6YMS OZH\", \"6YQV 8K2\", \"6YQW 82I\", \"6YR2 T1C\", \"6YRV PJ8\", \"6YSP PAL\", \"6YT6 PKE\",\n",
        "    \"6YYO Q1K\", \"6Z0R Q4H\", \"6Z14 Q4Z\", \"6Z1C 7EY\", \"6Z2C Q5E\", \"6Z4N Q7B\", \"6ZAE ACV\", \"6ZC3 JOR\",\n",
        "    \"6ZCY QF8\", \"6ZK5 IMH\", \"6ZPB 3D1\", \"7A1P QW2\", \"7A9E R4W\", \"7A9H TPP\", \"7AFX R9K\", \"7AKL RK5\",\n",
        "    \"7AN5 RDH\", \"7B2C TP7\", \"7B94 ANP\", \"7BCP GCO\", \"7BJJ TVW\", \"7BKA 4JC\", \"7BMI U4B\", \"7BNH BEZ\",\n",
        "    \"7BTT F8R\", \"7C0U FGO\", \"7C3U AZG\", \"7C8Q DSG\", \"7CD9 FVR\", \"7CIJ G0C\", \"7CL8 TES\", \"7CNQ G8X\",\n",
        "    \"7CNS PMV\", \"7CTM BDP\", \"7CUO PHB\", \"7D5C GV6\", \"7D6O MTE\", \"7DKT GLF\", \"7DQL 4CL\", \"7DUA HJ0\",\n",
        "    \"7E4L MDN\", \"7EBG J0L\", \"7ECR SIN\", \"7ED2 A3P\", \"7ELT TYM\", \"7EPV FDA\", \"7ES1 UDP\", \"7F51 BA7\",\n",
        "    \"7F5D EUO\", \"7F8T FAD\", \"7FB7 8NF\", \"7FHA ADX\", \"7FRX O88\", \"7FT9 4MB\", \"7JG0 GAR\", \"7JHQ VAJ\",\n",
        "    \"7JMV 4NC\", \"7JXX VP7\", \"7JY3 VUD\", \"7K0V VQP\", \"7KB1 WBJ\", \"7KC5 BJZ\", \"7KM8 WPD\", \"7KQU YOF\",\n",
        "    \"7KRU ATP\", \"7KZ9 XN7\", \"7L00 XCJ\", \"7L03 F9F\", \"7L5F XNG\", \"7L7C XQ1\", \"7LCU XTA\", \"7LEV 0JO\",\n",
        "    \"7LJN GTP\", \"7LMO NYO\", \"7LOE Y84\", \"7LOU IFM\", \"7LT0 ONJ\", \"7LZD YHY\", \"7M31 TDR\", \"7M3H YPV\",\n",
        "    \"7M6K YRJ\", \"7MFP Z7P\", \"7MGT ZD4\", \"7MGY ZD1\", \"7MMH ZJY\", \"7MOI HPS\", \"7MSR DCA\", \"7MWN WI5\",\n",
        "    \"7MWU ZPM\", \"7MY1 IPE\", \"7MYU ZR7\", \"7N03 ZRP\", \"7N4N 0BK\", \"7N4W P4V\", \"7N6F 0I1\", \"7N7B T3F\",\n",
        "    \"7N7H CTP\", \"7NF0 BYN\", \"7NF3 4LU\", \"7NFB GEN\", \"7NGW UAW\", \"7NLV UJE\", \"7NP6 UK8\", \"7NPL UKZ\",\n",
        "    \"7NR8 UOE\", \"7NSW HC4\", \"7NU0 DCL\", \"7NUT GLP\", \"7NXO UU8\", \"7O0N CDP\", \"7O1T 5X8\", \"7ODY DGI\",\n",
        "    \"7OEO V9Z\", \"7OFF VCB\", \"7OFK VCH\", \"7OLI 8HG\", \"7OMX CNA\", \"7OP9 06K\", \"7OPG 06N\", \"7OSO 0V1\",\n",
        "    \"7OZ9 NGK\", \"7OZC G6S\", \"7P1F KFN\", \"7P1M 4IU\", \"7P2I MFU\", \"7P4C 5OV\", \"7P5T 5YG\", \"7PGX FMN\",\n",
        "    \"7PIH 7QW\", \"7PJQ OWH\", \"7PK0 BYC\", \"7PL1 SFG\", \"7POM 7VZ\", \"7PRI 7TI\", \"7PRM 81I\", \"7PT3 3KK\",\n",
        "    \"7PUV 84Z\", \"7Q25 8J9\", \"7Q27 8KC\", \"7Q2B M6H\", \"7Q5I I0F\", \"7QE4 NGA\", \"7QF4 RBF\", \"7QFM AY3\",\n",
        "    \"7QGP DJ8\", \"7QHG T3B\", \"7QHL D5P\", \"7QPP VDX\", \"7QTA URI\", \"7R3D APR\", \"7R59 I5F\", \"7R6J 2I7\",\n",
        "    \"7R7R AWJ\", \"7R9N F97\", \"7RC3 SAH\", \"7RH3 59O\", \"7RKW 5TV\", \"7RNI 60I\", \"7ROR 69X\", \"7ROU 66I\",\n",
        "    \"7RSV 7IQ\", \"7RWS 4UR\", \"7RZL NPO\", \"7SCW GSP\", \"7SDD 4IP\", \"7SFO 98L\", \"7SIU 9ID\", \"7SUC COM\",\n",
        "    \"7SZA DUI\", \"7T0D FPP\", \"7T1D E7K\", \"7T3E SLB\", \"7TB0 UD1\", \"7TBU S3P\", \"7TE8 P0T\", \"7TH4 FFO\",\n",
        "    \"7THI PGA\", \"7TM6 GPJ\", \"7TOM 5AD\", \"7TS6 KMI\", \"7TSF H4B\", \"7TUO KL9\", \"7TXK LW8\", \"7TYP KUR\",\n",
        "    \"7U0U FK5\", \"7U3J L6U\", \"7UAS MBU\", \"7UAW MF6\", \"7UJ4 OQ4\", \"7UJ5 DGL\", \"7UJF R3V\", \"7ULC 56B\",\n",
        "    \"7UMW NAD\", \"7UQ3 O2U\", \"7USH 82V\", \"7UTW NAI\", \"7UXS OJC\", \"7UY4 SMI\", \"7UYB OK0\", \"7V14 ORU\",\n",
        "    \"7V3N AKG\", \"7V3S 5I9\", \"7V43 C4O\", \"7VB8 STL\", \"7VBU 6I4\", \"7VC5 9SF\", \"7VKZ NOJ\", \"7VQ9 ISY\",\n",
        "    \"7VWF K55\", \"7VYJ CA0\", \"7W05 GMP\", \"7W06 ITN\", \"7WCF ACP\", \"7WDT NGS\", \"7WJB BGC\", \"7WKL CAQ\",\n",
        "    \"7WL4 JFU\", \"7WPW F15\", \"7WQQ 5Z6\", \"7WUX 6OI\", \"7WUY 76N\", \"7WY1 D0L\", \"7X5N 5M5\", \"7X9K 8OG\",\n",
        "    \"7XBV APC\", \"7XFA D9J\", \"7XG5 PLP\", \"7XI7 4RI\", \"7XJN NSD\", \"7XPO UPG\", \"7XQZ FPF\", \"7XRL FWK\",\n",
        "    \"7YZU DO7\", \"7Z1Q NIO\", \"7Z2O IAJ\", \"7Z7F IF3\", \"7ZCC OGA\", \"7ZDY 6MJ\", \"7ZF0 DHR\", \"7ZHP IQY\",\n",
        "    \"7ZL5 IWE\", \"7ZOC T8E\", \"7ZTL BCN\", \"7ZU2 DHT\", \"7ZXV 45D\", \"7ZZW KKW\", \"8A1H DLZ\", \"8A2D KXY\",\n",
        "    \"8AAU LH0\", \"8AEM LVF\", \"8AIE M7L\", \"8AP0 PRP\", \"8AQL PLG\", \"8AUH L9I\", \"8AY3 OE3\", \"8B8H OJQ\",\n",
        "    \"8BOM QU6\", \"8BTI RFO\", \"8C3N ADP\", \"8C5M MTA\", \"8CNH V6U\", \"8CSD C5P\", \"8D19 GSH\", \"8D39 QDB\",\n",
        "    \"8D5D 5DK\", \"8DHG T78\", \"8DKO TFB\", \"8DP2 UMA\", \"8DSC NCA\", \"8EAB VN2\", \"8EX2 Q2Q\", \"8EXL 799\",\n",
        "    \"8EYE X4I\", \"8F4J PHO\", \"8F8E XJI\", \"8FAV 4Y5\", \"8FLV ZB9\", \"8FO5 Y4U\", \"8G0V YHT\", \"8G6P API\",\n",
        "    \"8GFD ZHR\", \"8HFN XGC\", \"8HO0 3ZI\", \"8SLG G5A\"\n",
        "]"
      ],
      "metadata": {
        "id": "P-cLE4HEU75M"
      },
      "execution_count": null,
      "outputs": []
    },
    {
      "cell_type": "code",
      "source": [
        "pdb_codes = [x.split(\" \")[0] for x in POSEBUSTERS_BENCHMARK_SET]\n",
        "ligand_codes = [x.split(\" \")[1] for x in POSEBUSTERS_BENCHMARK_SET]"
      ],
      "metadata": {
        "id": "y5a8mRm1Z3tp"
      },
      "execution_count": null,
      "outputs": []
    },
    {
      "cell_type": "code",
      "source": [
        "import numpy as np"
      ],
      "metadata": {
        "id": "a_aRmYs5995P"
      },
      "execution_count": null,
      "outputs": []
    },
    {
      "cell_type": "code",
      "source": [
        "import requests\n",
        "\n",
        "def get_smiles_by_id(component_id):\n",
        "    # Retrieve chemical component information using RCSB PDB API\n",
        "    url = f\"https://data.rcsb.org/rest/v1/core/chemcomp/{component_id}\"\n",
        "    response = requests.get(url)\n",
        "\n",
        "    if response.status_code == 200:\n",
        "        data = response.json()\n",
        "        smiles = data[\"rcsb_chem_comp_descriptor\"][\"smiles\"]\n",
        "        return smiles\n",
        "    else:\n",
        "        print(f\"Error retrieving chemical component information for {component_id}\")\n",
        "        return None\n",
        "\n",
        "ligand_code_to_smiles = {x:get_smiles_by_id(x) for x in ligand_codes}"
      ],
      "metadata": {
        "id": "jt9fFgkEax7L"
      },
      "execution_count": null,
      "outputs": []
    },
    {
      "cell_type": "code",
      "source": [
        "import requests\n",
        "from rdkit import Chem\n",
        "from rdkit.Chem import AllChem\n",
        "\n",
        "def fetch_similar_pdbs(smiles):\n",
        "    # Perform similarity search using RCSB PDB API\n",
        "    url = \"https://search.rcsb.org/rcsbsearch/v2/query\"\n",
        "    query = {\n",
        "        \"query\": {\n",
        "            \"type\": \"terminal\",\n",
        "            \"service\": \"chemical\",\n",
        "            \"parameters\": {\n",
        "                \"value\": smiles,\n",
        "                \"type\": \"descriptor\",\n",
        "                \"descriptor_type\": \"SMILES\",\n",
        "                \"match_type\": \"fingerprint-similarity\",\n",
        "            }\n",
        "        },\n",
        "        \"request_options\": {\n",
        "          \"return_all_hits\": True\n",
        "        },\n",
        "        \"return_type\": \"entry\"\n",
        "    }\n",
        "    try:\n",
        "        response = requests.post(url, json=query)\n",
        "        data = response.json()\n",
        "    except requests.exceptions.RequestException as e:\n",
        "        print(\"Error:\", e)\n",
        "        return (None, None)\n",
        "\n",
        "    pdb_ids = [hit[\"identifier\"] for hit in data[\"result_set\"]]\n",
        "    scores = [hit[\"score\"] for hit in data[\"result_set\"]]\n",
        "\n",
        "    return pdb_ids,scores"
      ],
      "metadata": {
        "id": "i6MqTMy_bkdm"
      },
      "execution_count": null,
      "outputs": []
    },
    {
      "cell_type": "code",
      "source": [
        "smiles_to_pdbs_dict = {}\n",
        "for code,smiles in ligand_code_to_smiles.items():\n",
        "    pdb_ids, scores = fetch_similar_pdbs(smiles)\n",
        "    smiles_to_pdbs_dict[code] = (pdb_ids, scores)"
      ],
      "metadata": {
        "id": "XMMFWX8316x7"
      },
      "execution_count": null,
      "outputs": []
    },
    {
      "cell_type": "code",
      "source": [
        "pdb_counts = {}\n",
        "for code, (pdb_ids, scores) in smiles_to_pdbs_dict.items():\n",
        "    pdb_counts[code] = len(pdb_ids)"
      ],
      "metadata": {
        "id": "zZDpmKxt8pJW"
      },
      "execution_count": 90,
      "outputs": []
    },
    {
      "cell_type": "code",
      "source": [
        "counts, bins = np.histogram(list(pdb_counts.values()), bins=range(0, 6000, 100))\n",
        "bins = 0.5 * (bins[:-1] + bins[1:])\n",
        "\n",
        "fig = px.bar(x=bins, y=counts, labels={'x':'total_bill', 'y':'count'})\n",
        "fig.show()"
      ],
      "metadata": {
        "colab": {
          "base_uri": "https://localhost:8080/",
          "height": 542
        },
        "id": "SgYDDgrIBn9Y",
        "outputId": "a2e5177f-2e14-4bdc-abde-965ea908c014"
      },
      "execution_count": 95,
      "outputs": [
        {
          "output_type": "display_data",
          "data": {
            "text/html": [
              "<html>\n",
              "<head><meta charset=\"utf-8\" /></head>\n",
              "<body>\n",
              "    <div>            <script src=\"https://cdnjs.cloudflare.com/ajax/libs/mathjax/2.7.5/MathJax.js?config=TeX-AMS-MML_SVG\"></script><script type=\"text/javascript\">if (window.MathJax && window.MathJax.Hub && window.MathJax.Hub.Config) {window.MathJax.Hub.Config({SVG: {font: \"STIX-Web\"}});}</script>                <script type=\"text/javascript\">window.PlotlyConfig = {MathJaxConfig: 'local'};</script>\n",
              "        <script charset=\"utf-8\" src=\"https://cdn.plot.ly/plotly-2.24.1.min.js\"></script>                <div id=\"75baae6b-114c-4346-9c26-7991dbe424f3\" class=\"plotly-graph-div\" style=\"height:525px; width:100%;\"></div>            <script type=\"text/javascript\">                                    window.PLOTLYENV=window.PLOTLYENV || {};                                    if (document.getElementById(\"75baae6b-114c-4346-9c26-7991dbe424f3\")) {                    Plotly.newPlot(                        \"75baae6b-114c-4346-9c26-7991dbe424f3\",                        [{\"alignmentgroup\":\"True\",\"hovertemplate\":\"total_bill=%{x}\\u003cbr\\u003ecount=%{y}\\u003cextra\\u003e\\u003c\\u002fextra\\u003e\",\"legendgroup\":\"\",\"marker\":{\"color\":\"#636efa\",\"pattern\":{\"shape\":\"\"}},\"name\":\"\",\"offsetgroup\":\"\",\"orientation\":\"v\",\"showlegend\":false,\"textposition\":\"auto\",\"x\":[50.0,150.0,250.0,350.0,450.0,550.0,650.0,750.0,850.0,950.0,1050.0,1150.0,1250.0,1350.0,1450.0,1550.0,1650.0,1750.0,1850.0,1950.0,2050.0,2150.0,2250.0,2350.0,2450.0,2550.0,2650.0,2750.0,2850.0,2950.0,3050.0,3150.0,3250.0,3350.0,3450.0,3550.0,3650.0,3750.0,3850.0,3950.0,4050.0,4150.0,4250.0,4350.0,4450.0,4550.0,4650.0,4750.0,4850.0,4950.0,5050.0,5150.0,5250.0,5350.0,5450.0,5550.0,5650.0,5750.0,5850.0],\"xaxis\":\"x\",\"y\":[200,19,10,10,10,5,2,1,1,0,0,0,0,0,5,1,0,3,1,1,0,0,1,1,1,0,0,0,0,0,2,0,0,0,1,0,0,3,0,0,0,0,0,0,0,0,1,0,0,0,0,0,0,0,0,0,0,0,0],\"yaxis\":\"y\",\"type\":\"bar\"}],                        {\"template\":{\"data\":{\"histogram2dcontour\":[{\"type\":\"histogram2dcontour\",\"colorbar\":{\"outlinewidth\":0,\"ticks\":\"\"},\"colorscale\":[[0.0,\"#0d0887\"],[0.1111111111111111,\"#46039f\"],[0.2222222222222222,\"#7201a8\"],[0.3333333333333333,\"#9c179e\"],[0.4444444444444444,\"#bd3786\"],[0.5555555555555556,\"#d8576b\"],[0.6666666666666666,\"#ed7953\"],[0.7777777777777778,\"#fb9f3a\"],[0.8888888888888888,\"#fdca26\"],[1.0,\"#f0f921\"]]}],\"choropleth\":[{\"type\":\"choropleth\",\"colorbar\":{\"outlinewidth\":0,\"ticks\":\"\"}}],\"histogram2d\":[{\"type\":\"histogram2d\",\"colorbar\":{\"outlinewidth\":0,\"ticks\":\"\"},\"colorscale\":[[0.0,\"#0d0887\"],[0.1111111111111111,\"#46039f\"],[0.2222222222222222,\"#7201a8\"],[0.3333333333333333,\"#9c179e\"],[0.4444444444444444,\"#bd3786\"],[0.5555555555555556,\"#d8576b\"],[0.6666666666666666,\"#ed7953\"],[0.7777777777777778,\"#fb9f3a\"],[0.8888888888888888,\"#fdca26\"],[1.0,\"#f0f921\"]]}],\"heatmap\":[{\"type\":\"heatmap\",\"colorbar\":{\"outlinewidth\":0,\"ticks\":\"\"},\"colorscale\":[[0.0,\"#0d0887\"],[0.1111111111111111,\"#46039f\"],[0.2222222222222222,\"#7201a8\"],[0.3333333333333333,\"#9c179e\"],[0.4444444444444444,\"#bd3786\"],[0.5555555555555556,\"#d8576b\"],[0.6666666666666666,\"#ed7953\"],[0.7777777777777778,\"#fb9f3a\"],[0.8888888888888888,\"#fdca26\"],[1.0,\"#f0f921\"]]}],\"heatmapgl\":[{\"type\":\"heatmapgl\",\"colorbar\":{\"outlinewidth\":0,\"ticks\":\"\"},\"colorscale\":[[0.0,\"#0d0887\"],[0.1111111111111111,\"#46039f\"],[0.2222222222222222,\"#7201a8\"],[0.3333333333333333,\"#9c179e\"],[0.4444444444444444,\"#bd3786\"],[0.5555555555555556,\"#d8576b\"],[0.6666666666666666,\"#ed7953\"],[0.7777777777777778,\"#fb9f3a\"],[0.8888888888888888,\"#fdca26\"],[1.0,\"#f0f921\"]]}],\"contourcarpet\":[{\"type\":\"contourcarpet\",\"colorbar\":{\"outlinewidth\":0,\"ticks\":\"\"}}],\"contour\":[{\"type\":\"contour\",\"colorbar\":{\"outlinewidth\":0,\"ticks\":\"\"},\"colorscale\":[[0.0,\"#0d0887\"],[0.1111111111111111,\"#46039f\"],[0.2222222222222222,\"#7201a8\"],[0.3333333333333333,\"#9c179e\"],[0.4444444444444444,\"#bd3786\"],[0.5555555555555556,\"#d8576b\"],[0.6666666666666666,\"#ed7953\"],[0.7777777777777778,\"#fb9f3a\"],[0.8888888888888888,\"#fdca26\"],[1.0,\"#f0f921\"]]}],\"surface\":[{\"type\":\"surface\",\"colorbar\":{\"outlinewidth\":0,\"ticks\":\"\"},\"colorscale\":[[0.0,\"#0d0887\"],[0.1111111111111111,\"#46039f\"],[0.2222222222222222,\"#7201a8\"],[0.3333333333333333,\"#9c179e\"],[0.4444444444444444,\"#bd3786\"],[0.5555555555555556,\"#d8576b\"],[0.6666666666666666,\"#ed7953\"],[0.7777777777777778,\"#fb9f3a\"],[0.8888888888888888,\"#fdca26\"],[1.0,\"#f0f921\"]]}],\"mesh3d\":[{\"type\":\"mesh3d\",\"colorbar\":{\"outlinewidth\":0,\"ticks\":\"\"}}],\"scatter\":[{\"fillpattern\":{\"fillmode\":\"overlay\",\"size\":10,\"solidity\":0.2},\"type\":\"scatter\"}],\"parcoords\":[{\"type\":\"parcoords\",\"line\":{\"colorbar\":{\"outlinewidth\":0,\"ticks\":\"\"}}}],\"scatterpolargl\":[{\"type\":\"scatterpolargl\",\"marker\":{\"colorbar\":{\"outlinewidth\":0,\"ticks\":\"\"}}}],\"bar\":[{\"error_x\":{\"color\":\"#2a3f5f\"},\"error_y\":{\"color\":\"#2a3f5f\"},\"marker\":{\"line\":{\"color\":\"#E5ECF6\",\"width\":0.5},\"pattern\":{\"fillmode\":\"overlay\",\"size\":10,\"solidity\":0.2}},\"type\":\"bar\"}],\"scattergeo\":[{\"type\":\"scattergeo\",\"marker\":{\"colorbar\":{\"outlinewidth\":0,\"ticks\":\"\"}}}],\"scatterpolar\":[{\"type\":\"scatterpolar\",\"marker\":{\"colorbar\":{\"outlinewidth\":0,\"ticks\":\"\"}}}],\"histogram\":[{\"marker\":{\"pattern\":{\"fillmode\":\"overlay\",\"size\":10,\"solidity\":0.2}},\"type\":\"histogram\"}],\"scattergl\":[{\"type\":\"scattergl\",\"marker\":{\"colorbar\":{\"outlinewidth\":0,\"ticks\":\"\"}}}],\"scatter3d\":[{\"type\":\"scatter3d\",\"line\":{\"colorbar\":{\"outlinewidth\":0,\"ticks\":\"\"}},\"marker\":{\"colorbar\":{\"outlinewidth\":0,\"ticks\":\"\"}}}],\"scattermapbox\":[{\"type\":\"scattermapbox\",\"marker\":{\"colorbar\":{\"outlinewidth\":0,\"ticks\":\"\"}}}],\"scatterternary\":[{\"type\":\"scatterternary\",\"marker\":{\"colorbar\":{\"outlinewidth\":0,\"ticks\":\"\"}}}],\"scattercarpet\":[{\"type\":\"scattercarpet\",\"marker\":{\"colorbar\":{\"outlinewidth\":0,\"ticks\":\"\"}}}],\"carpet\":[{\"aaxis\":{\"endlinecolor\":\"#2a3f5f\",\"gridcolor\":\"white\",\"linecolor\":\"white\",\"minorgridcolor\":\"white\",\"startlinecolor\":\"#2a3f5f\"},\"baxis\":{\"endlinecolor\":\"#2a3f5f\",\"gridcolor\":\"white\",\"linecolor\":\"white\",\"minorgridcolor\":\"white\",\"startlinecolor\":\"#2a3f5f\"},\"type\":\"carpet\"}],\"table\":[{\"cells\":{\"fill\":{\"color\":\"#EBF0F8\"},\"line\":{\"color\":\"white\"}},\"header\":{\"fill\":{\"color\":\"#C8D4E3\"},\"line\":{\"color\":\"white\"}},\"type\":\"table\"}],\"barpolar\":[{\"marker\":{\"line\":{\"color\":\"#E5ECF6\",\"width\":0.5},\"pattern\":{\"fillmode\":\"overlay\",\"size\":10,\"solidity\":0.2}},\"type\":\"barpolar\"}],\"pie\":[{\"automargin\":true,\"type\":\"pie\"}]},\"layout\":{\"autotypenumbers\":\"strict\",\"colorway\":[\"#636efa\",\"#EF553B\",\"#00cc96\",\"#ab63fa\",\"#FFA15A\",\"#19d3f3\",\"#FF6692\",\"#B6E880\",\"#FF97FF\",\"#FECB52\"],\"font\":{\"color\":\"#2a3f5f\"},\"hovermode\":\"closest\",\"hoverlabel\":{\"align\":\"left\"},\"paper_bgcolor\":\"white\",\"plot_bgcolor\":\"#E5ECF6\",\"polar\":{\"bgcolor\":\"#E5ECF6\",\"angularaxis\":{\"gridcolor\":\"white\",\"linecolor\":\"white\",\"ticks\":\"\"},\"radialaxis\":{\"gridcolor\":\"white\",\"linecolor\":\"white\",\"ticks\":\"\"}},\"ternary\":{\"bgcolor\":\"#E5ECF6\",\"aaxis\":{\"gridcolor\":\"white\",\"linecolor\":\"white\",\"ticks\":\"\"},\"baxis\":{\"gridcolor\":\"white\",\"linecolor\":\"white\",\"ticks\":\"\"},\"caxis\":{\"gridcolor\":\"white\",\"linecolor\":\"white\",\"ticks\":\"\"}},\"coloraxis\":{\"colorbar\":{\"outlinewidth\":0,\"ticks\":\"\"}},\"colorscale\":{\"sequential\":[[0.0,\"#0d0887\"],[0.1111111111111111,\"#46039f\"],[0.2222222222222222,\"#7201a8\"],[0.3333333333333333,\"#9c179e\"],[0.4444444444444444,\"#bd3786\"],[0.5555555555555556,\"#d8576b\"],[0.6666666666666666,\"#ed7953\"],[0.7777777777777778,\"#fb9f3a\"],[0.8888888888888888,\"#fdca26\"],[1.0,\"#f0f921\"]],\"sequentialminus\":[[0.0,\"#0d0887\"],[0.1111111111111111,\"#46039f\"],[0.2222222222222222,\"#7201a8\"],[0.3333333333333333,\"#9c179e\"],[0.4444444444444444,\"#bd3786\"],[0.5555555555555556,\"#d8576b\"],[0.6666666666666666,\"#ed7953\"],[0.7777777777777778,\"#fb9f3a\"],[0.8888888888888888,\"#fdca26\"],[1.0,\"#f0f921\"]],\"diverging\":[[0,\"#8e0152\"],[0.1,\"#c51b7d\"],[0.2,\"#de77ae\"],[0.3,\"#f1b6da\"],[0.4,\"#fde0ef\"],[0.5,\"#f7f7f7\"],[0.6,\"#e6f5d0\"],[0.7,\"#b8e186\"],[0.8,\"#7fbc41\"],[0.9,\"#4d9221\"],[1,\"#276419\"]]},\"xaxis\":{\"gridcolor\":\"white\",\"linecolor\":\"white\",\"ticks\":\"\",\"title\":{\"standoff\":15},\"zerolinecolor\":\"white\",\"automargin\":true,\"zerolinewidth\":2},\"yaxis\":{\"gridcolor\":\"white\",\"linecolor\":\"white\",\"ticks\":\"\",\"title\":{\"standoff\":15},\"zerolinecolor\":\"white\",\"automargin\":true,\"zerolinewidth\":2},\"scene\":{\"xaxis\":{\"backgroundcolor\":\"#E5ECF6\",\"gridcolor\":\"white\",\"linecolor\":\"white\",\"showbackground\":true,\"ticks\":\"\",\"zerolinecolor\":\"white\",\"gridwidth\":2},\"yaxis\":{\"backgroundcolor\":\"#E5ECF6\",\"gridcolor\":\"white\",\"linecolor\":\"white\",\"showbackground\":true,\"ticks\":\"\",\"zerolinecolor\":\"white\",\"gridwidth\":2},\"zaxis\":{\"backgroundcolor\":\"#E5ECF6\",\"gridcolor\":\"white\",\"linecolor\":\"white\",\"showbackground\":true,\"ticks\":\"\",\"zerolinecolor\":\"white\",\"gridwidth\":2}},\"shapedefaults\":{\"line\":{\"color\":\"#2a3f5f\"}},\"annotationdefaults\":{\"arrowcolor\":\"#2a3f5f\",\"arrowhead\":0,\"arrowwidth\":1},\"geo\":{\"bgcolor\":\"white\",\"landcolor\":\"#E5ECF6\",\"subunitcolor\":\"white\",\"showland\":true,\"showlakes\":true,\"lakecolor\":\"white\"},\"title\":{\"x\":0.05},\"mapbox\":{\"style\":\"light\"}}},\"xaxis\":{\"anchor\":\"y\",\"domain\":[0.0,1.0],\"title\":{\"text\":\"total_bill\"}},\"yaxis\":{\"anchor\":\"x\",\"domain\":[0.0,1.0],\"title\":{\"text\":\"count\"}},\"legend\":{\"tracegroupgap\":0},\"margin\":{\"t\":60},\"barmode\":\"relative\"},                        {\"responsive\": true}                    ).then(function(){\n",
              "                            \n",
              "var gd = document.getElementById('75baae6b-114c-4346-9c26-7991dbe424f3');\n",
              "var x = new MutationObserver(function (mutations, observer) {{\n",
              "        var display = window.getComputedStyle(gd).display;\n",
              "        if (!display || display === 'none') {{\n",
              "            console.log([gd, 'removed!']);\n",
              "            Plotly.purge(gd);\n",
              "            observer.disconnect();\n",
              "        }}\n",
              "}});\n",
              "\n",
              "// Listen for the removal of the full notebook cells\n",
              "var notebookContainer = gd.closest('#notebook-container');\n",
              "if (notebookContainer) {{\n",
              "    x.observe(notebookContainer, {childList: true});\n",
              "}}\n",
              "\n",
              "// Listen for the clearing of the current output cell\n",
              "var outputEl = gd.closest('.output');\n",
              "if (outputEl) {{\n",
              "    x.observe(outputEl, {childList: true});\n",
              "}}\n",
              "\n",
              "                        })                };                            </script>        </div>\n",
              "</body>\n",
              "</html>"
            ]
          },
          "metadata": {}
        }
      ]
    },
    {
      "cell_type": "code",
      "source": [
        "import plotly.express as px\n",
        "px.histogram(x=list(counts.values()), bins=range(0, 2000, 5))"
      ],
      "metadata": {
        "colab": {
          "base_uri": "https://localhost:8080/",
          "height": 198
        },
        "id": "335R0jVi_aHB",
        "outputId": "03c06961-63b6-4c62-c7f5-7fd75b95cc3f"
      },
      "execution_count": 74,
      "outputs": [
        {
          "output_type": "error",
          "ename": "TypeError",
          "evalue": "histogram() got an unexpected keyword argument 'bins'",
          "traceback": [
            "\u001b[0;31m---------------------------------------------------------------------------\u001b[0m",
            "\u001b[0;31mTypeError\u001b[0m                                 Traceback (most recent call last)",
            "\u001b[0;32m<ipython-input-74-0426b7fbb970>\u001b[0m in \u001b[0;36m<cell line: 2>\u001b[0;34m()\u001b[0m\n\u001b[1;32m      1\u001b[0m \u001b[0;32mimport\u001b[0m \u001b[0mplotly\u001b[0m\u001b[0;34m.\u001b[0m\u001b[0mexpress\u001b[0m \u001b[0;32mas\u001b[0m \u001b[0mpx\u001b[0m\u001b[0;34m\u001b[0m\u001b[0;34m\u001b[0m\u001b[0m\n\u001b[0;32m----> 2\u001b[0;31m \u001b[0mpx\u001b[0m\u001b[0;34m.\u001b[0m\u001b[0mhistogram\u001b[0m\u001b[0;34m(\u001b[0m\u001b[0mx\u001b[0m\u001b[0;34m=\u001b[0m\u001b[0mlist\u001b[0m\u001b[0;34m(\u001b[0m\u001b[0mcounts\u001b[0m\u001b[0;34m.\u001b[0m\u001b[0mvalues\u001b[0m\u001b[0;34m(\u001b[0m\u001b[0;34m)\u001b[0m\u001b[0;34m)\u001b[0m\u001b[0;34m,\u001b[0m \u001b[0mbins\u001b[0m\u001b[0;34m=\u001b[0m\u001b[0mrange\u001b[0m\u001b[0;34m(\u001b[0m\u001b[0;36m0\u001b[0m\u001b[0;34m,\u001b[0m \u001b[0;36m2000\u001b[0m\u001b[0;34m,\u001b[0m \u001b[0;36m5\u001b[0m\u001b[0;34m)\u001b[0m\u001b[0;34m)\u001b[0m\u001b[0;34m\u001b[0m\u001b[0;34m\u001b[0m\u001b[0m\n\u001b[0m",
            "\u001b[0;31mTypeError\u001b[0m: histogram() got an unexpected keyword argument 'bins'"
          ]
        }
      ]
    },
    {
      "cell_type": "code",
      "source": [],
      "metadata": {
        "id": "rK_ZBwdMBI-7"
      },
      "execution_count": null,
      "outputs": []
    }
  ]
}