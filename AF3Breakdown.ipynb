{
  "nbformat": 4,
  "nbformat_minor": 0,
  "metadata": {
    "colab": {
      "provenance": [],
      "toc_visible": true,
      "authorship_tag": "ABX9TyOUU0xHVoT0y+Os3nJotbcV",
      "include_colab_link": true
    },
    "kernelspec": {
      "name": "python3",
      "display_name": "Python 3"
    },
    "language_info": {
      "name": "python"
    }
  },
  "cells": [
    {
      "cell_type": "markdown",
      "metadata": {
        "id": "view-in-github",
        "colab_type": "text"
      },
      "source": [
        "<a href=\"https://colab.research.google.com/github/dylanabramson33/AlphaFold3Breakdown/blob/main/AF3Breakdown.ipynb\" target=\"_parent\"><img src=\"https://colab.research.google.com/assets/colab-badge.svg\" alt=\"Open In Colab\"/></a>"
      ]
    },
    {
      "cell_type": "code",
      "execution_count": 130,
      "metadata": {
        "id": "61uVOkMLK_33",
        "colab": {
          "base_uri": "https://localhost:8080/"
        },
        "outputId": "81ce83b2-c25d-4e43-dfca-97e09f236eea"
      },
      "outputs": [
        {
          "output_type": "stream",
          "name": "stdout",
          "text": [
            "Requirement already satisfied: rdkit in /usr/local/lib/python3.10/dist-packages (2023.9.6)\n",
            "Requirement already satisfied: numpy in /usr/local/lib/python3.10/dist-packages (from rdkit) (1.25.2)\n",
            "Requirement already satisfied: Pillow in /usr/local/lib/python3.10/dist-packages (from rdkit) (9.4.0)\n",
            "Requirement already satisfied: biopython in /usr/local/lib/python3.10/dist-packages (1.83)\n",
            "Requirement already satisfied: numpy in /usr/local/lib/python3.10/dist-packages (from biopython) (1.25.2)\n"
          ]
        }
      ],
      "source": [
        "!pip install rdkit\n",
        "!pip install biopython"
      ]
    },
    {
      "cell_type": "markdown",
      "source": [
        "# Fetch PDBS containing similar ligands to test set using tanimoto similarity"
      ],
      "metadata": {
        "id": "SufKuhGY9LEF"
      }
    },
    {
      "cell_type": "code",
      "source": [
        "POSEBUSTERS_BENCHMARK_SET = [\n",
        "    \"5SAK ZRY\", \"5SB2 1K2\", \"5SD5 HWI\", \"5SIS JSM\", \"6M2B EZO\", \"6M73 FNR\", \"6T88 MWQ\", \"6TW5 9M2\",\n",
        "    \"6TW7 NZB\", \"6VTA AKN\", \"6WTN RXT\", \"6XBO 5MC\", \"6XCT 478\", \"6XG5 TOP\", \"6XHT V2V\", \"6XM9 V55\",\n",
        "    \"6YJA 2BA\", \"6YMS OZH\", \"6YQV 8K2\", \"6YQW 82I\", \"6YR2 T1C\", \"6YRV PJ8\", \"6YSP PAL\", \"6YT6 PKE\",\n",
        "    \"6YYO Q1K\", \"6Z0R Q4H\", \"6Z14 Q4Z\", \"6Z1C 7EY\", \"6Z2C Q5E\", \"6Z4N Q7B\", \"6ZAE ACV\", \"6ZC3 JOR\",\n",
        "    \"6ZCY QF8\", \"6ZK5 IMH\", \"6ZPB 3D1\", \"7A1P QW2\", \"7A9E R4W\", \"7A9H TPP\", \"7AFX R9K\", \"7AKL RK5\",\n",
        "    \"7AN5 RDH\", \"7B2C TP7\", \"7B94 ANP\", \"7BCP GCO\", \"7BJJ TVW\", \"7BKA 4JC\", \"7BMI U4B\", \"7BNH BEZ\",\n",
        "    \"7BTT F8R\", \"7C0U FGO\", \"7C3U AZG\", \"7C8Q DSG\", \"7CD9 FVR\", \"7CIJ G0C\", \"7CL8 TES\", \"7CNQ G8X\",\n",
        "    \"7CNS PMV\", \"7CTM BDP\", \"7CUO PHB\", \"7D5C GV6\", \"7D6O MTE\", \"7DKT GLF\", \"7DQL 4CL\", \"7DUA HJ0\",\n",
        "    \"7E4L MDN\", \"7EBG J0L\", \"7ECR SIN\", \"7ED2 A3P\", \"7ELT TYM\", \"7EPV FDA\", \"7ES1 UDP\", \"7F51 BA7\",\n",
        "    \"7F5D EUO\", \"7F8T FAD\", \"7FB7 8NF\", \"7FHA ADX\", \"7FRX O88\", \"7FT9 4MB\", \"7JG0 GAR\", \"7JHQ VAJ\",\n",
        "    \"7JMV 4NC\", \"7JXX VP7\", \"7JY3 VUD\", \"7K0V VQP\", \"7KB1 WBJ\", \"7KC5 BJZ\", \"7KM8 WPD\", \"7KQU YOF\",\n",
        "    \"7KRU ATP\", \"7KZ9 XN7\", \"7L00 XCJ\", \"7L03 F9F\", \"7L5F XNG\", \"7L7C XQ1\", \"7LCU XTA\", \"7LEV 0JO\",\n",
        "    \"7LJN GTP\", \"7LMO NYO\", \"7LOE Y84\", \"7LOU IFM\", \"7LT0 ONJ\", \"7LZD YHY\", \"7M31 TDR\", \"7M3H YPV\",\n",
        "    \"7M6K YRJ\", \"7MFP Z7P\", \"7MGT ZD4\", \"7MGY ZD1\", \"7MMH ZJY\", \"7MOI HPS\", \"7MSR DCA\", \"7MWN WI5\",\n",
        "    \"7MWU ZPM\", \"7MY1 IPE\", \"7MYU ZR7\", \"7N03 ZRP\", \"7N4N 0BK\", \"7N4W P4V\", \"7N6F 0I1\", \"7N7B T3F\",\n",
        "    \"7N7H CTP\", \"7NF0 BYN\", \"7NF3 4LU\", \"7NFB GEN\", \"7NGW UAW\", \"7NLV UJE\", \"7NP6 UK8\", \"7NPL UKZ\",\n",
        "    \"7NR8 UOE\", \"7NSW HC4\", \"7NU0 DCL\", \"7NUT GLP\", \"7NXO UU8\", \"7O0N CDP\", \"7O1T 5X8\", \"7ODY DGI\",\n",
        "    \"7OEO V9Z\", \"7OFF VCB\", \"7OFK VCH\", \"7OLI 8HG\", \"7OMX CNA\", \"7OP9 06K\", \"7OPG 06N\", \"7OSO 0V1\",\n",
        "    \"7OZ9 NGK\", \"7OZC G6S\", \"7P1F KFN\", \"7P1M 4IU\", \"7P2I MFU\", \"7P4C 5OV\", \"7P5T 5YG\", \"7PGX FMN\",\n",
        "    \"7PIH 7QW\", \"7PJQ OWH\", \"7PK0 BYC\", \"7PL1 SFG\", \"7POM 7VZ\", \"7PRI 7TI\", \"7PRM 81I\", \"7PT3 3KK\",\n",
        "    \"7PUV 84Z\", \"7Q25 8J9\", \"7Q27 8KC\", \"7Q2B M6H\", \"7Q5I I0F\", \"7QE4 NGA\", \"7QF4 RBF\", \"7QFM AY3\",\n",
        "    \"7QGP DJ8\", \"7QHG T3B\", \"7QHL D5P\", \"7QPP VDX\", \"7QTA URI\", \"7R3D APR\", \"7R59 I5F\", \"7R6J 2I7\",\n",
        "    \"7R7R AWJ\", \"7R9N F97\", \"7RC3 SAH\", \"7RH3 59O\", \"7RKW 5TV\", \"7RNI 60I\", \"7ROR 69X\", \"7ROU 66I\",\n",
        "    \"7RSV 7IQ\", \"7RWS 4UR\", \"7RZL NPO\", \"7SCW GSP\", \"7SDD 4IP\", \"7SFO 98L\", \"7SIU 9ID\", \"7SUC COM\",\n",
        "    \"7SZA DUI\", \"7T0D FPP\", \"7T1D E7K\", \"7T3E SLB\", \"7TB0 UD1\", \"7TBU S3P\", \"7TE8 P0T\", \"7TH4 FFO\",\n",
        "    \"7THI PGA\", \"7TM6 GPJ\", \"7TOM 5AD\", \"7TS6 KMI\", \"7TSF H4B\", \"7TUO KL9\", \"7TXK LW8\", \"7TYP KUR\",\n",
        "    \"7U0U FK5\", \"7U3J L6U\", \"7UAS MBU\", \"7UAW MF6\", \"7UJ4 OQ4\", \"7UJ5 DGL\", \"7UJF R3V\", \"7ULC 56B\",\n",
        "    \"7UMW NAD\", \"7UQ3 O2U\", \"7USH 82V\", \"7UTW NAI\", \"7UXS OJC\", \"7UY4 SMI\", \"7UYB OK0\", \"7V14 ORU\",\n",
        "    \"7V3N AKG\", \"7V3S 5I9\", \"7V43 C4O\", \"7VB8 STL\", \"7VBU 6I4\", \"7VC5 9SF\", \"7VKZ NOJ\", \"7VQ9 ISY\",\n",
        "    \"7VWF K55\", \"7VYJ CA0\", \"7W05 GMP\", \"7W06 ITN\", \"7WCF ACP\", \"7WDT NGS\", \"7WJB BGC\", \"7WKL CAQ\",\n",
        "    \"7WL4 JFU\", \"7WPW F15\", \"7WQQ 5Z6\", \"7WUX 6OI\", \"7WUY 76N\", \"7WY1 D0L\", \"7X5N 5M5\", \"7X9K 8OG\",\n",
        "    \"7XBV APC\", \"7XFA D9J\", \"7XG5 PLP\", \"7XI7 4RI\", \"7XJN NSD\", \"7XPO UPG\", \"7XQZ FPF\", \"7XRL FWK\",\n",
        "    \"7YZU DO7\", \"7Z1Q NIO\", \"7Z2O IAJ\", \"7Z7F IF3\", \"7ZCC OGA\", \"7ZDY 6MJ\", \"7ZF0 DHR\", \"7ZHP IQY\",\n",
        "    \"7ZL5 IWE\", \"7ZOC T8E\", \"7ZTL BCN\", \"7ZU2 DHT\", \"7ZXV 45D\", \"7ZZW KKW\", \"8A1H DLZ\", \"8A2D KXY\",\n",
        "    \"8AAU LH0\", \"8AEM LVF\", \"8AIE M7L\", \"8AP0 PRP\", \"8AQL PLG\", \"8AUH L9I\", \"8AY3 OE3\", \"8B8H OJQ\",\n",
        "    \"8BOM QU6\", \"8BTI RFO\", \"8C3N ADP\", \"8C5M MTA\", \"8CNH V6U\", \"8CSD C5P\", \"8D19 GSH\", \"8D39 QDB\",\n",
        "    \"8D5D 5DK\", \"8DHG T78\", \"8DKO TFB\", \"8DP2 UMA\", \"8DSC NCA\", \"8EAB VN2\", \"8EX2 Q2Q\", \"8EXL 799\",\n",
        "    \"8EYE X4I\", \"8F4J PHO\", \"8F8E XJI\", \"8FAV 4Y5\", \"8FLV ZB9\", \"8FO5 Y4U\", \"8G0V YHT\", \"8G6P API\",\n",
        "    \"8GFD ZHR\", \"8HFN XGC\", \"8HO0 3ZI\", \"8SLG G5A\"\n",
        "]"
      ],
      "metadata": {
        "id": "P-cLE4HEU75M"
      },
      "execution_count": null,
      "outputs": []
    },
    {
      "cell_type": "code",
      "source": [
        "COMMON_NATURALS = [\n",
        "    '2BA', '5AD', 'A3P', 'ACP', 'ADP', 'AKG', 'ANP', 'APC', 'APR', 'ATP',\n",
        "    'BCN', 'BDP', 'BGC', 'C5P', 'CDP', 'CTP', 'DGL', 'DSG', 'F15', 'FAD',\n",
        "    'FDA', 'FMN', 'GSH', 'GSP', 'GTP', 'H4B', 'IPE', 'MFU', 'MTA', 'MTE',\n",
        "    'NAD', 'NAI', 'NCA', 'NGA', 'OGA', 'PGA', 'PHO', 'PJ8', 'PLG', 'PLP',\n",
        "    'PRP', 'SAH', 'SFG', 'SIN', 'SLB', 'TPP', 'UD1', 'UDP', 'UPG', 'UR'\n",
        "]"
      ],
      "metadata": {
        "id": "XNILntYwM_NO"
      },
      "execution_count": null,
      "outputs": []
    },
    {
      "cell_type": "code",
      "source": [
        "pdb_codes = [x.split(\" \")[0] for x in POSEBUSTERS_BENCHMARK_SET]\n",
        "ligand_codes = [x.split(\" \")[1] for x in POSEBUSTERS_BENCHMARK_SET]"
      ],
      "metadata": {
        "id": "y5a8mRm1Z3tp"
      },
      "execution_count": null,
      "outputs": []
    },
    {
      "cell_type": "code",
      "source": [
        "import numpy as np"
      ],
      "metadata": {
        "id": "a_aRmYs5995P"
      },
      "execution_count": null,
      "outputs": []
    },
    {
      "cell_type": "code",
      "source": [
        "import requests\n",
        "\n",
        "def get_smiles_by_id(component_id):\n",
        "    # Retrieve chemical component information using RCSB PDB API\n",
        "    url = f\"https://data.rcsb.org/rest/v1/core/chemcomp/{component_id}\"\n",
        "    response = requests.get(url)\n",
        "\n",
        "    if response.status_code == 200:\n",
        "        data = response.json()\n",
        "        smiles = data[\"rcsb_chem_comp_descriptor\"][\"smiles\"]\n",
        "        return smiles\n",
        "    else:\n",
        "        print(f\"Error retrieving chemical component information for {component_id}\")\n",
        "        return None\n",
        "\n",
        "ligand_code_to_smiles = {x:get_smiles_by_id(x) for x in ligand_codes}"
      ],
      "metadata": {
        "id": "jt9fFgkEax7L"
      },
      "execution_count": null,
      "outputs": []
    },
    {
      "cell_type": "code",
      "source": [
        "import requests\n",
        "from rdkit import Chem\n",
        "from rdkit.Chem import AllChem\n",
        "\n",
        "def fetch_similar_pdbs(smiles):\n",
        "    # Perform similarity search using RCSB PDB API\n",
        "    url = \"https://search.rcsb.org/rcsbsearch/v2/query\"\n",
        "    query = {\n",
        "      \"query\": {\n",
        "          \"type\": \"group\",\n",
        "          \"logical_operator\": \"and\",\n",
        "          \"nodes\": [\n",
        "              {\n",
        "                  \"type\": \"terminal\",\n",
        "                  \"service\": \"chemical\",\n",
        "                  \"parameters\": {\n",
        "                      \"value\": smiles,\n",
        "                      \"type\": \"descriptor\",\n",
        "                      \"descriptor_type\": \"SMILES\",\n",
        "                      \"match_type\": \"fingerprint-similarity\"\n",
        "                  }\n",
        "              },\n",
        "              {\n",
        "                  \"type\": \"terminal\",\n",
        "                  \"service\": \"text\",\n",
        "                  \"parameters\": {\n",
        "                      \"attribute\": \"rcsb_accession_info.initial_release_date\",\n",
        "                      \"operator\": \"less\",\n",
        "                      \"value\": \"2021-09-30T00:00:00Z\"\n",
        "                  }\n",
        "              }\n",
        "          ]\n",
        "      },\n",
        "      \"request_options\": {\n",
        "          \"return_all_hits\": True\n",
        "      },\n",
        "      \"return_type\": \"entry\"\n",
        "    }\n",
        "    try:\n",
        "        response = requests.post(url, json=query)\n",
        "        data = response.json()\n",
        "    except requests.exceptions.RequestException as e:\n",
        "        print(\"Error:\", e)\n",
        "        return (None, None)\n",
        "\n",
        "    pdb_ids = [hit[\"identifier\"] for hit in data[\"result_set\"]]\n",
        "    scores = [hit[\"score\"] for hit in data[\"result_set\"]]\n",
        "\n",
        "    return pdb_ids,scores"
      ],
      "metadata": {
        "id": "i6MqTMy_bkdm"
      },
      "execution_count": null,
      "outputs": []
    },
    {
      "cell_type": "code",
      "source": [
        "ligand_code_to_pdbs_dict = {}\n",
        "for code,smiles in ligand_code_to_smiles.items():\n",
        "    pdb_ids, scores = fetch_similar_pdbs(smiles)\n",
        "    ligand_code_to_pdbs_dict[code] = (pdb_ids, scores)"
      ],
      "metadata": {
        "id": "XMMFWX8316x7",
        "colab": {
          "base_uri": "https://localhost:8080/"
        },
        "outputId": "2fdc8707-c0d5-41b3-9e56-6a56cfe78304"
      },
      "execution_count": 141,
      "outputs": [
        {
          "output_type": "stream",
          "name": "stdout",
          "text": [
            "Error: Expecting value: line 1 column 1 (char 0)\n",
            "Error: Expecting value: line 1 column 1 (char 0)\n",
            "Error: Expecting value: line 1 column 1 (char 0)\n",
            "Error: Expecting value: line 1 column 1 (char 0)\n",
            "Error: Expecting value: line 1 column 1 (char 0)\n",
            "Error: Expecting value: line 1 column 1 (char 0)\n",
            "Error: Expecting value: line 1 column 1 (char 0)\n",
            "Error: Expecting value: line 1 column 1 (char 0)\n",
            "Error: Expecting value: line 1 column 1 (char 0)\n",
            "Error: Expecting value: line 1 column 1 (char 0)\n",
            "Error: Expecting value: line 1 column 1 (char 0)\n",
            "Error: Expecting value: line 1 column 1 (char 0)\n",
            "Error: Expecting value: line 1 column 1 (char 0)\n",
            "Error: Expecting value: line 1 column 1 (char 0)\n",
            "Error: Expecting value: line 1 column 1 (char 0)\n",
            "Error: Expecting value: line 1 column 1 (char 0)\n",
            "Error: Expecting value: line 1 column 1 (char 0)\n",
            "Error: Expecting value: line 1 column 1 (char 0)\n",
            "Error: Expecting value: line 1 column 1 (char 0)\n",
            "Error: Expecting value: line 1 column 1 (char 0)\n",
            "Error: Expecting value: line 1 column 1 (char 0)\n",
            "Error: Expecting value: line 1 column 1 (char 0)\n",
            "Error: Expecting value: line 1 column 1 (char 0)\n",
            "Error: Expecting value: line 1 column 1 (char 0)\n",
            "Error: Expecting value: line 1 column 1 (char 0)\n",
            "Error: Expecting value: line 1 column 1 (char 0)\n",
            "Error: Expecting value: line 1 column 1 (char 0)\n",
            "Error: Expecting value: line 1 column 1 (char 0)\n",
            "Error: Expecting value: line 1 column 1 (char 0)\n",
            "Error: Expecting value: line 1 column 1 (char 0)\n",
            "Error: Expecting value: line 1 column 1 (char 0)\n",
            "Error: Expecting value: line 1 column 1 (char 0)\n",
            "Error: Expecting value: line 1 column 1 (char 0)\n",
            "Error: Expecting value: line 1 column 1 (char 0)\n",
            "Error: Expecting value: line 1 column 1 (char 0)\n",
            "Error: Expecting value: line 1 column 1 (char 0)\n",
            "Error: Expecting value: line 1 column 1 (char 0)\n",
            "Error: Expecting value: line 1 column 1 (char 0)\n",
            "Error: Expecting value: line 1 column 1 (char 0)\n",
            "Error: Expecting value: line 1 column 1 (char 0)\n",
            "Error: Expecting value: line 1 column 1 (char 0)\n",
            "Error: Expecting value: line 1 column 1 (char 0)\n",
            "Error: Expecting value: line 1 column 1 (char 0)\n",
            "Error: Expecting value: line 1 column 1 (char 0)\n",
            "Error: Expecting value: line 1 column 1 (char 0)\n",
            "Error: Expecting value: line 1 column 1 (char 0)\n",
            "Error: Expecting value: line 1 column 1 (char 0)\n",
            "Error: Expecting value: line 1 column 1 (char 0)\n",
            "Error: Expecting value: line 1 column 1 (char 0)\n",
            "Error: Expecting value: line 1 column 1 (char 0)\n",
            "Error: Expecting value: line 1 column 1 (char 0)\n",
            "Error: Expecting value: line 1 column 1 (char 0)\n",
            "Error: Expecting value: line 1 column 1 (char 0)\n",
            "Error: Expecting value: line 1 column 1 (char 0)\n",
            "Error: Expecting value: line 1 column 1 (char 0)\n",
            "Error: Expecting value: line 1 column 1 (char 0)\n",
            "Error: Expecting value: line 1 column 1 (char 0)\n"
          ]
        }
      ]
    },
    {
      "cell_type": "code",
      "source": [
        "pdb_counts = {}\n",
        "for code, (pdb_ids, scores) in ligand_code_to_pdbs_dict.items():\n",
        "    if isinstance(pdb_ids,type(None)):\n",
        "        pdb_counts[code] = 0\n",
        "    else:\n",
        "        pdb_counts[code] = len(list(filter(lambda x: x > 0.85, scores)))"
      ],
      "metadata": {
        "id": "zZDpmKxt8pJW"
      },
      "execution_count": 142,
      "outputs": []
    },
    {
      "cell_type": "code",
      "source": [
        "import plotly.express as px"
      ],
      "metadata": {
        "id": "W42lxDdpDGpm"
      },
      "execution_count": 134,
      "outputs": []
    },
    {
      "cell_type": "code",
      "source": [
        "counts, bins = np.histogram(list(pdb_counts.values()), bins=range(0, 6000, 100))\n",
        "bins = 0.5 * (bins[:-1] + bins[1:])\n",
        "\n",
        "fig = px.bar(x=bins, y=counts, labels={'x':'num pdbs with tanimoto > 0.85 to ligand' , 'y':'count'})\n",
        "fig.show()"
      ],
      "metadata": {
        "id": "SgYDDgrIBn9Y",
        "colab": {
          "base_uri": "https://localhost:8080/",
          "height": 542
        },
        "outputId": "9279eba5-66c9-4b0a-add9-fdff39402db4"
      },
      "execution_count": 139,
      "outputs": [
        {
          "output_type": "display_data",
          "data": {
            "text/html": [
              "<html>\n",
              "<head><meta charset=\"utf-8\" /></head>\n",
              "<body>\n",
              "    <div>            <script src=\"https://cdnjs.cloudflare.com/ajax/libs/mathjax/2.7.5/MathJax.js?config=TeX-AMS-MML_SVG\"></script><script type=\"text/javascript\">if (window.MathJax && window.MathJax.Hub && window.MathJax.Hub.Config) {window.MathJax.Hub.Config({SVG: {font: \"STIX-Web\"}});}</script>                <script type=\"text/javascript\">window.PlotlyConfig = {MathJaxConfig: 'local'};</script>\n",
              "        <script charset=\"utf-8\" src=\"https://cdn.plot.ly/plotly-2.24.1.min.js\"></script>                <div id=\"36df6680-ef7c-4ba0-9041-62c72647a4e1\" class=\"plotly-graph-div\" style=\"height:525px; width:100%;\"></div>            <script type=\"text/javascript\">                                    window.PLOTLYENV=window.PLOTLYENV || {};                                    if (document.getElementById(\"36df6680-ef7c-4ba0-9041-62c72647a4e1\")) {                    Plotly.newPlot(                        \"36df6680-ef7c-4ba0-9041-62c72647a4e1\",                        [{\"alignmentgroup\":\"True\",\"hovertemplate\":\"num pdbs with tanimoto \\u003e 0.85 to ligand=%{x}\\u003cbr\\u003ecount=%{y}\\u003cextra\\u003e\\u003c\\u002fextra\\u003e\",\"legendgroup\":\"\",\"marker\":{\"color\":\"#636efa\",\"pattern\":{\"shape\":\"\"}},\"name\":\"\",\"offsetgroup\":\"\",\"orientation\":\"v\",\"showlegend\":false,\"textposition\":\"auto\",\"x\":[50.0,150.0,250.0,350.0,450.0,550.0,650.0,750.0,850.0,950.0,1050.0,1150.0,1250.0,1350.0,1450.0,1550.0,1650.0,1750.0,1850.0,1950.0,2050.0,2150.0,2250.0,2350.0,2450.0,2550.0,2650.0,2750.0,2850.0,2950.0,3050.0,3150.0,3250.0,3350.0,3450.0,3550.0,3650.0,3750.0,3850.0,3950.0,4050.0,4150.0,4250.0,4350.0,4450.0,4550.0,4650.0,4750.0,4850.0,4950.0,5050.0,5150.0,5250.0,5350.0,5450.0,5550.0,5650.0,5750.0,5850.0],\"xaxis\":\"x\",\"y\":[213,17,16,13,1,1,1,1,0,0,1,3,2,3,1,0,1,1,1,1,0,0,0,0,0,3,1,1,0,0,0,2,0,0,1,0,0,0,0,0,0,0,0,0,1,0,1,0,1,0,0,0,0,0,2,1,0,1,0],\"yaxis\":\"y\",\"type\":\"bar\"}],                        {\"template\":{\"data\":{\"histogram2dcontour\":[{\"type\":\"histogram2dcontour\",\"colorbar\":{\"outlinewidth\":0,\"ticks\":\"\"},\"colorscale\":[[0.0,\"#0d0887\"],[0.1111111111111111,\"#46039f\"],[0.2222222222222222,\"#7201a8\"],[0.3333333333333333,\"#9c179e\"],[0.4444444444444444,\"#bd3786\"],[0.5555555555555556,\"#d8576b\"],[0.6666666666666666,\"#ed7953\"],[0.7777777777777778,\"#fb9f3a\"],[0.8888888888888888,\"#fdca26\"],[1.0,\"#f0f921\"]]}],\"choropleth\":[{\"type\":\"choropleth\",\"colorbar\":{\"outlinewidth\":0,\"ticks\":\"\"}}],\"histogram2d\":[{\"type\":\"histogram2d\",\"colorbar\":{\"outlinewidth\":0,\"ticks\":\"\"},\"colorscale\":[[0.0,\"#0d0887\"],[0.1111111111111111,\"#46039f\"],[0.2222222222222222,\"#7201a8\"],[0.3333333333333333,\"#9c179e\"],[0.4444444444444444,\"#bd3786\"],[0.5555555555555556,\"#d8576b\"],[0.6666666666666666,\"#ed7953\"],[0.7777777777777778,\"#fb9f3a\"],[0.8888888888888888,\"#fdca26\"],[1.0,\"#f0f921\"]]}],\"heatmap\":[{\"type\":\"heatmap\",\"colorbar\":{\"outlinewidth\":0,\"ticks\":\"\"},\"colorscale\":[[0.0,\"#0d0887\"],[0.1111111111111111,\"#46039f\"],[0.2222222222222222,\"#7201a8\"],[0.3333333333333333,\"#9c179e\"],[0.4444444444444444,\"#bd3786\"],[0.5555555555555556,\"#d8576b\"],[0.6666666666666666,\"#ed7953\"],[0.7777777777777778,\"#fb9f3a\"],[0.8888888888888888,\"#fdca26\"],[1.0,\"#f0f921\"]]}],\"heatmapgl\":[{\"type\":\"heatmapgl\",\"colorbar\":{\"outlinewidth\":0,\"ticks\":\"\"},\"colorscale\":[[0.0,\"#0d0887\"],[0.1111111111111111,\"#46039f\"],[0.2222222222222222,\"#7201a8\"],[0.3333333333333333,\"#9c179e\"],[0.4444444444444444,\"#bd3786\"],[0.5555555555555556,\"#d8576b\"],[0.6666666666666666,\"#ed7953\"],[0.7777777777777778,\"#fb9f3a\"],[0.8888888888888888,\"#fdca26\"],[1.0,\"#f0f921\"]]}],\"contourcarpet\":[{\"type\":\"contourcarpet\",\"colorbar\":{\"outlinewidth\":0,\"ticks\":\"\"}}],\"contour\":[{\"type\":\"contour\",\"colorbar\":{\"outlinewidth\":0,\"ticks\":\"\"},\"colorscale\":[[0.0,\"#0d0887\"],[0.1111111111111111,\"#46039f\"],[0.2222222222222222,\"#7201a8\"],[0.3333333333333333,\"#9c179e\"],[0.4444444444444444,\"#bd3786\"],[0.5555555555555556,\"#d8576b\"],[0.6666666666666666,\"#ed7953\"],[0.7777777777777778,\"#fb9f3a\"],[0.8888888888888888,\"#fdca26\"],[1.0,\"#f0f921\"]]}],\"surface\":[{\"type\":\"surface\",\"colorbar\":{\"outlinewidth\":0,\"ticks\":\"\"},\"colorscale\":[[0.0,\"#0d0887\"],[0.1111111111111111,\"#46039f\"],[0.2222222222222222,\"#7201a8\"],[0.3333333333333333,\"#9c179e\"],[0.4444444444444444,\"#bd3786\"],[0.5555555555555556,\"#d8576b\"],[0.6666666666666666,\"#ed7953\"],[0.7777777777777778,\"#fb9f3a\"],[0.8888888888888888,\"#fdca26\"],[1.0,\"#f0f921\"]]}],\"mesh3d\":[{\"type\":\"mesh3d\",\"colorbar\":{\"outlinewidth\":0,\"ticks\":\"\"}}],\"scatter\":[{\"fillpattern\":{\"fillmode\":\"overlay\",\"size\":10,\"solidity\":0.2},\"type\":\"scatter\"}],\"parcoords\":[{\"type\":\"parcoords\",\"line\":{\"colorbar\":{\"outlinewidth\":0,\"ticks\":\"\"}}}],\"scatterpolargl\":[{\"type\":\"scatterpolargl\",\"marker\":{\"colorbar\":{\"outlinewidth\":0,\"ticks\":\"\"}}}],\"bar\":[{\"error_x\":{\"color\":\"#2a3f5f\"},\"error_y\":{\"color\":\"#2a3f5f\"},\"marker\":{\"line\":{\"color\":\"#E5ECF6\",\"width\":0.5},\"pattern\":{\"fillmode\":\"overlay\",\"size\":10,\"solidity\":0.2}},\"type\":\"bar\"}],\"scattergeo\":[{\"type\":\"scattergeo\",\"marker\":{\"colorbar\":{\"outlinewidth\":0,\"ticks\":\"\"}}}],\"scatterpolar\":[{\"type\":\"scatterpolar\",\"marker\":{\"colorbar\":{\"outlinewidth\":0,\"ticks\":\"\"}}}],\"histogram\":[{\"marker\":{\"pattern\":{\"fillmode\":\"overlay\",\"size\":10,\"solidity\":0.2}},\"type\":\"histogram\"}],\"scattergl\":[{\"type\":\"scattergl\",\"marker\":{\"colorbar\":{\"outlinewidth\":0,\"ticks\":\"\"}}}],\"scatter3d\":[{\"type\":\"scatter3d\",\"line\":{\"colorbar\":{\"outlinewidth\":0,\"ticks\":\"\"}},\"marker\":{\"colorbar\":{\"outlinewidth\":0,\"ticks\":\"\"}}}],\"scattermapbox\":[{\"type\":\"scattermapbox\",\"marker\":{\"colorbar\":{\"outlinewidth\":0,\"ticks\":\"\"}}}],\"scatterternary\":[{\"type\":\"scatterternary\",\"marker\":{\"colorbar\":{\"outlinewidth\":0,\"ticks\":\"\"}}}],\"scattercarpet\":[{\"type\":\"scattercarpet\",\"marker\":{\"colorbar\":{\"outlinewidth\":0,\"ticks\":\"\"}}}],\"carpet\":[{\"aaxis\":{\"endlinecolor\":\"#2a3f5f\",\"gridcolor\":\"white\",\"linecolor\":\"white\",\"minorgridcolor\":\"white\",\"startlinecolor\":\"#2a3f5f\"},\"baxis\":{\"endlinecolor\":\"#2a3f5f\",\"gridcolor\":\"white\",\"linecolor\":\"white\",\"minorgridcolor\":\"white\",\"startlinecolor\":\"#2a3f5f\"},\"type\":\"carpet\"}],\"table\":[{\"cells\":{\"fill\":{\"color\":\"#EBF0F8\"},\"line\":{\"color\":\"white\"}},\"header\":{\"fill\":{\"color\":\"#C8D4E3\"},\"line\":{\"color\":\"white\"}},\"type\":\"table\"}],\"barpolar\":[{\"marker\":{\"line\":{\"color\":\"#E5ECF6\",\"width\":0.5},\"pattern\":{\"fillmode\":\"overlay\",\"size\":10,\"solidity\":0.2}},\"type\":\"barpolar\"}],\"pie\":[{\"automargin\":true,\"type\":\"pie\"}]},\"layout\":{\"autotypenumbers\":\"strict\",\"colorway\":[\"#636efa\",\"#EF553B\",\"#00cc96\",\"#ab63fa\",\"#FFA15A\",\"#19d3f3\",\"#FF6692\",\"#B6E880\",\"#FF97FF\",\"#FECB52\"],\"font\":{\"color\":\"#2a3f5f\"},\"hovermode\":\"closest\",\"hoverlabel\":{\"align\":\"left\"},\"paper_bgcolor\":\"white\",\"plot_bgcolor\":\"#E5ECF6\",\"polar\":{\"bgcolor\":\"#E5ECF6\",\"angularaxis\":{\"gridcolor\":\"white\",\"linecolor\":\"white\",\"ticks\":\"\"},\"radialaxis\":{\"gridcolor\":\"white\",\"linecolor\":\"white\",\"ticks\":\"\"}},\"ternary\":{\"bgcolor\":\"#E5ECF6\",\"aaxis\":{\"gridcolor\":\"white\",\"linecolor\":\"white\",\"ticks\":\"\"},\"baxis\":{\"gridcolor\":\"white\",\"linecolor\":\"white\",\"ticks\":\"\"},\"caxis\":{\"gridcolor\":\"white\",\"linecolor\":\"white\",\"ticks\":\"\"}},\"coloraxis\":{\"colorbar\":{\"outlinewidth\":0,\"ticks\":\"\"}},\"colorscale\":{\"sequential\":[[0.0,\"#0d0887\"],[0.1111111111111111,\"#46039f\"],[0.2222222222222222,\"#7201a8\"],[0.3333333333333333,\"#9c179e\"],[0.4444444444444444,\"#bd3786\"],[0.5555555555555556,\"#d8576b\"],[0.6666666666666666,\"#ed7953\"],[0.7777777777777778,\"#fb9f3a\"],[0.8888888888888888,\"#fdca26\"],[1.0,\"#f0f921\"]],\"sequentialminus\":[[0.0,\"#0d0887\"],[0.1111111111111111,\"#46039f\"],[0.2222222222222222,\"#7201a8\"],[0.3333333333333333,\"#9c179e\"],[0.4444444444444444,\"#bd3786\"],[0.5555555555555556,\"#d8576b\"],[0.6666666666666666,\"#ed7953\"],[0.7777777777777778,\"#fb9f3a\"],[0.8888888888888888,\"#fdca26\"],[1.0,\"#f0f921\"]],\"diverging\":[[0,\"#8e0152\"],[0.1,\"#c51b7d\"],[0.2,\"#de77ae\"],[0.3,\"#f1b6da\"],[0.4,\"#fde0ef\"],[0.5,\"#f7f7f7\"],[0.6,\"#e6f5d0\"],[0.7,\"#b8e186\"],[0.8,\"#7fbc41\"],[0.9,\"#4d9221\"],[1,\"#276419\"]]},\"xaxis\":{\"gridcolor\":\"white\",\"linecolor\":\"white\",\"ticks\":\"\",\"title\":{\"standoff\":15},\"zerolinecolor\":\"white\",\"automargin\":true,\"zerolinewidth\":2},\"yaxis\":{\"gridcolor\":\"white\",\"linecolor\":\"white\",\"ticks\":\"\",\"title\":{\"standoff\":15},\"zerolinecolor\":\"white\",\"automargin\":true,\"zerolinewidth\":2},\"scene\":{\"xaxis\":{\"backgroundcolor\":\"#E5ECF6\",\"gridcolor\":\"white\",\"linecolor\":\"white\",\"showbackground\":true,\"ticks\":\"\",\"zerolinecolor\":\"white\",\"gridwidth\":2},\"yaxis\":{\"backgroundcolor\":\"#E5ECF6\",\"gridcolor\":\"white\",\"linecolor\":\"white\",\"showbackground\":true,\"ticks\":\"\",\"zerolinecolor\":\"white\",\"gridwidth\":2},\"zaxis\":{\"backgroundcolor\":\"#E5ECF6\",\"gridcolor\":\"white\",\"linecolor\":\"white\",\"showbackground\":true,\"ticks\":\"\",\"zerolinecolor\":\"white\",\"gridwidth\":2}},\"shapedefaults\":{\"line\":{\"color\":\"#2a3f5f\"}},\"annotationdefaults\":{\"arrowcolor\":\"#2a3f5f\",\"arrowhead\":0,\"arrowwidth\":1},\"geo\":{\"bgcolor\":\"white\",\"landcolor\":\"#E5ECF6\",\"subunitcolor\":\"white\",\"showland\":true,\"showlakes\":true,\"lakecolor\":\"white\"},\"title\":{\"x\":0.05},\"mapbox\":{\"style\":\"light\"}}},\"xaxis\":{\"anchor\":\"y\",\"domain\":[0.0,1.0],\"title\":{\"text\":\"num pdbs with tanimoto \\u003e 0.85 to ligand\"}},\"yaxis\":{\"anchor\":\"x\",\"domain\":[0.0,1.0],\"title\":{\"text\":\"count\"}},\"legend\":{\"tracegroupgap\":0},\"margin\":{\"t\":60},\"barmode\":\"relative\"},                        {\"responsive\": true}                    ).then(function(){\n",
              "                            \n",
              "var gd = document.getElementById('36df6680-ef7c-4ba0-9041-62c72647a4e1');\n",
              "var x = new MutationObserver(function (mutations, observer) {{\n",
              "        var display = window.getComputedStyle(gd).display;\n",
              "        if (!display || display === 'none') {{\n",
              "            console.log([gd, 'removed!']);\n",
              "            Plotly.purge(gd);\n",
              "            observer.disconnect();\n",
              "        }}\n",
              "}});\n",
              "\n",
              "// Listen for the removal of the full notebook cells\n",
              "var notebookContainer = gd.closest('#notebook-container');\n",
              "if (notebookContainer) {{\n",
              "    x.observe(notebookContainer, {childList: true});\n",
              "}}\n",
              "\n",
              "// Listen for the clearing of the current output cell\n",
              "var outputEl = gd.closest('.output');\n",
              "if (outputEl) {{\n",
              "    x.observe(outputEl, {childList: true});\n",
              "}}\n",
              "\n",
              "                        })                };                            </script>        </div>\n",
              "</body>\n",
              "</html>"
            ]
          },
          "metadata": {}
        }
      ]
    },
    {
      "cell_type": "code",
      "source": [
        "cummulative_probs = [len(list(filter(lambda x: x >= i, pdb_counts.values()))) for i in range(2000)]"
      ],
      "metadata": {
        "id": "7PXjlbUNDXt6"
      },
      "execution_count": 121,
      "outputs": []
    },
    {
      "cell_type": "code",
      "source": [
        "import pandas as pd\n",
        "probs = np.array(cummulative_probs) * 1/len(pdb_counts)\n",
        "indices = np.arange(len(probs))\n",
        "df = pd.DataFrame({'x': indices, 'Percent of Dataset with >x similar samples': probs})\n",
        "px.line(df, x='x', y='Percent of Dataset with >x similar samples')"
      ],
      "metadata": {
        "colab": {
          "base_uri": "https://localhost:8080/",
          "height": 542
        },
        "id": "-QeI49j7uvmm",
        "outputId": "8f9ac4c7-6998-4da7-bf0b-968cf59528dd"
      },
      "execution_count": 140,
      "outputs": [
        {
          "output_type": "display_data",
          "data": {
            "text/html": [
              "<html>\n",
              "<head><meta charset=\"utf-8\" /></head>\n",
              "<body>\n",
              "    <div>            <script src=\"https://cdnjs.cloudflare.com/ajax/libs/mathjax/2.7.5/MathJax.js?config=TeX-AMS-MML_SVG\"></script><script type=\"text/javascript\">if (window.MathJax && window.MathJax.Hub && window.MathJax.Hub.Config) {window.MathJax.Hub.Config({SVG: {font: \"STIX-Web\"}});}</script>                <script type=\"text/javascript\">window.PlotlyConfig = {MathJaxConfig: 'local'};</script>\n",
              "        <script charset=\"utf-8\" src=\"https://cdn.plot.ly/plotly-2.24.1.min.js\"></script>                <div id=\"34ab1baa-f893-4eeb-b2f1-8005fe88aba8\" class=\"plotly-graph-div\" style=\"height:525px; width:100%;\"></div>            <script type=\"text/javascript\">                                    window.PLOTLYENV=window.PLOTLYENV || {};                                    if (document.getElementById(\"34ab1baa-f893-4eeb-b2f1-8005fe88aba8\")) {                    Plotly.newPlot(                        \"34ab1baa-f893-4eeb-b2f1-8005fe88aba8\",                        [{\"hovertemplate\":\"x=%{x}\\u003cbr\\u003ePercent of Dataset with \\u003ex similar samples=%{y}\\u003cextra\\u003e\\u003c\\u002fextra\\u003e\",\"legendgroup\":\"\",\"line\":{\"color\":\"#636efa\",\"dash\":\"solid\"},\"marker\":{\"symbol\":\"circle\"},\"mode\":\"lines\",\"name\":\"\",\"showlegend\":false,\"x\":[0,1,2,3,4,5,6,7,8,9,10,11,12,13,14,15,16,17,18,19,20,21,22,23,24,25,26,27,28,29,30,31,32,33,34,35,36,37,38,39,40,41,42,43,44,45,46,47,48,49,50,51,52,53,54,55,56,57,58,59,60,61,62,63,64,65,66,67,68,69,70,71,72,73,74,75,76,77,78,79,80,81,82,83,84,85,86,87,88,89,90,91,92,93,94,95,96,97,98,99,100,101,102,103,104,105,106,107,108,109,110,111,112,113,114,115,116,117,118,119,120,121,122,123,124,125,126,127,128,129,130,131,132,133,134,135,136,137,138,139,140,141,142,143,144,145,146,147,148,149,150,151,152,153,154,155,156,157,158,159,160,161,162,163,164,165,166,167,168,169,170,171,172,173,174,175,176,177,178,179,180,181,182,183,184,185,186,187,188,189,190,191,192,193,194,195,196,197,198,199,200,201,202,203,204,205,206,207,208,209,210,211,212,213,214,215,216,217,218,219,220,221,222,223,224,225,226,227,228,229,230,231,232,233,234,235,236,237,238,239,240,241,242,243,244,245,246,247,248,249,250,251,252,253,254,255,256,257,258,259,260,261,262,263,264,265,266,267,268,269,270,271,272,273,274,275,276,277,278,279,280,281,282,283,284,285,286,287,288,289,290,291,292,293,294,295,296,297,298,299,300,301,302,303,304,305,306,307,308,309,310,311,312,313,314,315,316,317,318,319,320,321,322,323,324,325,326,327,328,329,330,331,332,333,334,335,336,337,338,339,340,341,342,343,344,345,346,347,348,349,350,351,352,353,354,355,356,357,358,359,360,361,362,363,364,365,366,367,368,369,370,371,372,373,374,375,376,377,378,379,380,381,382,383,384,385,386,387,388,389,390,391,392,393,394,395,396,397,398,399,400,401,402,403,404,405,406,407,408,409,410,411,412,413,414,415,416,417,418,419,420,421,422,423,424,425,426,427,428,429,430,431,432,433,434,435,436,437,438,439,440,441,442,443,444,445,446,447,448,449,450,451,452,453,454,455,456,457,458,459,460,461,462,463,464,465,466,467,468,469,470,471,472,473,474,475,476,477,478,479,480,481,482,483,484,485,486,487,488,489,490,491,492,493,494,495,496,497,498,499,500,501,502,503,504,505,506,507,508,509,510,511,512,513,514,515,516,517,518,519,520,521,522,523,524,525,526,527,528,529,530,531,532,533,534,535,536,537,538,539,540,541,542,543,544,545,546,547,548,549,550,551,552,553,554,555,556,557,558,559,560,561,562,563,564,565,566,567,568,569,570,571,572,573,574,575,576,577,578,579,580,581,582,583,584,585,586,587,588,589,590,591,592,593,594,595,596,597,598,599,600,601,602,603,604,605,606,607,608,609,610,611,612,613,614,615,616,617,618,619,620,621,622,623,624,625,626,627,628,629,630,631,632,633,634,635,636,637,638,639,640,641,642,643,644,645,646,647,648,649,650,651,652,653,654,655,656,657,658,659,660,661,662,663,664,665,666,667,668,669,670,671,672,673,674,675,676,677,678,679,680,681,682,683,684,685,686,687,688,689,690,691,692,693,694,695,696,697,698,699,700,701,702,703,704,705,706,707,708,709,710,711,712,713,714,715,716,717,718,719,720,721,722,723,724,725,726,727,728,729,730,731,732,733,734,735,736,737,738,739,740,741,742,743,744,745,746,747,748,749,750,751,752,753,754,755,756,757,758,759,760,761,762,763,764,765,766,767,768,769,770,771,772,773,774,775,776,777,778,779,780,781,782,783,784,785,786,787,788,789,790,791,792,793,794,795,796,797,798,799,800,801,802,803,804,805,806,807,808,809,810,811,812,813,814,815,816,817,818,819,820,821,822,823,824,825,826,827,828,829,830,831,832,833,834,835,836,837,838,839,840,841,842,843,844,845,846,847,848,849,850,851,852,853,854,855,856,857,858,859,860,861,862,863,864,865,866,867,868,869,870,871,872,873,874,875,876,877,878,879,880,881,882,883,884,885,886,887,888,889,890,891,892,893,894,895,896,897,898,899,900,901,902,903,904,905,906,907,908,909,910,911,912,913,914,915,916,917,918,919,920,921,922,923,924,925,926,927,928,929,930,931,932,933,934,935,936,937,938,939,940,941,942,943,944,945,946,947,948,949,950,951,952,953,954,955,956,957,958,959,960,961,962,963,964,965,966,967,968,969,970,971,972,973,974,975,976,977,978,979,980,981,982,983,984,985,986,987,988,989,990,991,992,993,994,995,996,997,998,999,1000,1001,1002,1003,1004,1005,1006,1007,1008,1009,1010,1011,1012,1013,1014,1015,1016,1017,1018,1019,1020,1021,1022,1023,1024,1025,1026,1027,1028,1029,1030,1031,1032,1033,1034,1035,1036,1037,1038,1039,1040,1041,1042,1043,1044,1045,1046,1047,1048,1049,1050,1051,1052,1053,1054,1055,1056,1057,1058,1059,1060,1061,1062,1063,1064,1065,1066,1067,1068,1069,1070,1071,1072,1073,1074,1075,1076,1077,1078,1079,1080,1081,1082,1083,1084,1085,1086,1087,1088,1089,1090,1091,1092,1093,1094,1095,1096,1097,1098,1099,1100,1101,1102,1103,1104,1105,1106,1107,1108,1109,1110,1111,1112,1113,1114,1115,1116,1117,1118,1119,1120,1121,1122,1123,1124,1125,1126,1127,1128,1129,1130,1131,1132,1133,1134,1135,1136,1137,1138,1139,1140,1141,1142,1143,1144,1145,1146,1147,1148,1149,1150,1151,1152,1153,1154,1155,1156,1157,1158,1159,1160,1161,1162,1163,1164,1165,1166,1167,1168,1169,1170,1171,1172,1173,1174,1175,1176,1177,1178,1179,1180,1181,1182,1183,1184,1185,1186,1187,1188,1189,1190,1191,1192,1193,1194,1195,1196,1197,1198,1199,1200,1201,1202,1203,1204,1205,1206,1207,1208,1209,1210,1211,1212,1213,1214,1215,1216,1217,1218,1219,1220,1221,1222,1223,1224,1225,1226,1227,1228,1229,1230,1231,1232,1233,1234,1235,1236,1237,1238,1239,1240,1241,1242,1243,1244,1245,1246,1247,1248,1249,1250,1251,1252,1253,1254,1255,1256,1257,1258,1259,1260,1261,1262,1263,1264,1265,1266,1267,1268,1269,1270,1271,1272,1273,1274,1275,1276,1277,1278,1279,1280,1281,1282,1283,1284,1285,1286,1287,1288,1289,1290,1291,1292,1293,1294,1295,1296,1297,1298,1299,1300,1301,1302,1303,1304,1305,1306,1307,1308,1309,1310,1311,1312,1313,1314,1315,1316,1317,1318,1319,1320,1321,1322,1323,1324,1325,1326,1327,1328,1329,1330,1331,1332,1333,1334,1335,1336,1337,1338,1339,1340,1341,1342,1343,1344,1345,1346,1347,1348,1349,1350,1351,1352,1353,1354,1355,1356,1357,1358,1359,1360,1361,1362,1363,1364,1365,1366,1367,1368,1369,1370,1371,1372,1373,1374,1375,1376,1377,1378,1379,1380,1381,1382,1383,1384,1385,1386,1387,1388,1389,1390,1391,1392,1393,1394,1395,1396,1397,1398,1399,1400,1401,1402,1403,1404,1405,1406,1407,1408,1409,1410,1411,1412,1413,1414,1415,1416,1417,1418,1419,1420,1421,1422,1423,1424,1425,1426,1427,1428,1429,1430,1431,1432,1433,1434,1435,1436,1437,1438,1439,1440,1441,1442,1443,1444,1445,1446,1447,1448,1449,1450,1451,1452,1453,1454,1455,1456,1457,1458,1459,1460,1461,1462,1463,1464,1465,1466,1467,1468,1469,1470,1471,1472,1473,1474,1475,1476,1477,1478,1479,1480,1481,1482,1483,1484,1485,1486,1487,1488,1489,1490,1491,1492,1493,1494,1495,1496,1497,1498,1499,1500,1501,1502,1503,1504,1505,1506,1507,1508,1509,1510,1511,1512,1513,1514,1515,1516,1517,1518,1519,1520,1521,1522,1523,1524,1525,1526,1527,1528,1529,1530,1531,1532,1533,1534,1535,1536,1537,1538,1539,1540,1541,1542,1543,1544,1545,1546,1547,1548,1549,1550,1551,1552,1553,1554,1555,1556,1557,1558,1559,1560,1561,1562,1563,1564,1565,1566,1567,1568,1569,1570,1571,1572,1573,1574,1575,1576,1577,1578,1579,1580,1581,1582,1583,1584,1585,1586,1587,1588,1589,1590,1591,1592,1593,1594,1595,1596,1597,1598,1599,1600,1601,1602,1603,1604,1605,1606,1607,1608,1609,1610,1611,1612,1613,1614,1615,1616,1617,1618,1619,1620,1621,1622,1623,1624,1625,1626,1627,1628,1629,1630,1631,1632,1633,1634,1635,1636,1637,1638,1639,1640,1641,1642,1643,1644,1645,1646,1647,1648,1649,1650,1651,1652,1653,1654,1655,1656,1657,1658,1659,1660,1661,1662,1663,1664,1665,1666,1667,1668,1669,1670,1671,1672,1673,1674,1675,1676,1677,1678,1679,1680,1681,1682,1683,1684,1685,1686,1687,1688,1689,1690,1691,1692,1693,1694,1695,1696,1697,1698,1699,1700,1701,1702,1703,1704,1705,1706,1707,1708,1709,1710,1711,1712,1713,1714,1715,1716,1717,1718,1719,1720,1721,1722,1723,1724,1725,1726,1727,1728,1729,1730,1731,1732,1733,1734,1735,1736,1737,1738,1739,1740,1741,1742,1743,1744,1745,1746,1747,1748,1749,1750,1751,1752,1753,1754,1755,1756,1757,1758,1759,1760,1761,1762,1763,1764,1765,1766,1767,1768,1769,1770,1771,1772,1773,1774,1775,1776,1777,1778,1779,1780,1781,1782,1783,1784,1785,1786,1787,1788,1789,1790,1791,1792,1793,1794,1795,1796,1797,1798,1799,1800,1801,1802,1803,1804,1805,1806,1807,1808,1809,1810,1811,1812,1813,1814,1815,1816,1817,1818,1819,1820,1821,1822,1823,1824,1825,1826,1827,1828,1829,1830,1831,1832,1833,1834,1835,1836,1837,1838,1839,1840,1841,1842,1843,1844,1845,1846,1847,1848,1849,1850,1851,1852,1853,1854,1855,1856,1857,1858,1859,1860,1861,1862,1863,1864,1865,1866,1867,1868,1869,1870,1871,1872,1873,1874,1875,1876,1877,1878,1879,1880,1881,1882,1883,1884,1885,1886,1887,1888,1889,1890,1891,1892,1893,1894,1895,1896,1897,1898,1899,1900,1901,1902,1903,1904,1905,1906,1907,1908,1909,1910,1911,1912,1913,1914,1915,1916,1917,1918,1919,1920,1921,1922,1923,1924,1925,1926,1927,1928,1929,1930,1931,1932,1933,1934,1935,1936,1937,1938,1939,1940,1941,1942,1943,1944,1945,1946,1947,1948,1949,1950,1951,1952,1953,1954,1955,1956,1957,1958,1959,1960,1961,1962,1963,1964,1965,1966,1967,1968,1969,1970,1971,1972,1973,1974,1975,1976,1977,1978,1979,1980,1981,1982,1983,1984,1985,1986,1987,1988,1989,1990,1991,1992,1993,1994,1995,1996,1997,1998,1999],\"xaxis\":\"x\",\"y\":[1.0,0.814935064935065,0.75,0.672077922077922,0.6525974025974026,0.6233766233766234,0.6103896103896104,0.5941558441558441,0.5811688311688312,0.5746753246753247,0.5551948051948052,0.5487012987012987,0.5454545454545454,0.538961038961039,0.525974025974026,0.525974025974026,0.512987012987013,0.5032467532467533,0.5,0.4935064935064935,0.4902597402597403,0.487012987012987,0.4837662337662338,0.4805194805194805,0.4772727272727273,0.4707792207792208,0.4675324675324675,0.4675324675324675,0.4642857142857143,0.461038961038961,0.4577922077922078,0.4512987012987013,0.4512987012987013,0.4512987012987013,0.44805194805194803,0.4448051948051948,0.44155844155844154,0.43506493506493504,0.4318181818181818,0.4253246753246753,0.4253246753246753,0.4253246753246753,0.4253246753246753,0.42207792207792205,0.41883116883116883,0.41883116883116883,0.41883116883116883,0.41883116883116883,0.4155844155844156,0.41233766233766234,0.4090909090909091,0.4090909090909091,0.40584415584415584,0.40584415584415584,0.4025974025974026,0.4025974025974026,0.39935064935064934,0.39935064935064934,0.39935064935064934,0.3961038961038961,0.39285714285714285,0.39285714285714285,0.39285714285714285,0.39285714285714285,0.39285714285714285,0.39285714285714285,0.39285714285714285,0.38636363636363635,0.37662337662337664,0.37662337662337664,0.37662337662337664,0.37662337662337664,0.37337662337662336,0.36688311688311687,0.36688311688311687,0.36363636363636365,0.36363636363636365,0.36363636363636365,0.36363636363636365,0.36363636363636365,0.36363636363636365,0.36038961038961037,0.36038961038961037,0.36038961038961037,0.36038961038961037,0.36038961038961037,0.36038961038961037,0.36038961038961037,0.36038961038961037,0.36038961038961037,0.36038961038961037,0.36038961038961037,0.36038961038961037,0.36038961038961037,0.36038961038961037,0.35714285714285715,0.35714285714285715,0.3538961038961039,0.35064935064935066,0.35064935064935066,0.35064935064935066,0.3474025974025974,0.34415584415584416,0.34415584415584416,0.34415584415584416,0.34415584415584416,0.3409090909090909,0.3409090909090909,0.3409090909090909,0.3409090909090909,0.3409090909090909,0.3409090909090909,0.33766233766233766,0.33766233766233766,0.33766233766233766,0.33766233766233766,0.33766233766233766,0.33766233766233766,0.33766233766233766,0.33766233766233766,0.3344155844155844,0.3344155844155844,0.3344155844155844,0.3246753246753247,0.3246753246753247,0.3246753246753247,0.32142857142857145,0.32142857142857145,0.32142857142857145,0.3181818181818182,0.3181818181818182,0.31493506493506496,0.31493506493506496,0.31493506493506496,0.31493506493506496,0.31493506493506496,0.31493506493506496,0.31493506493506496,0.3116883116883117,0.3116883116883117,0.3116883116883117,0.3116883116883117,0.3116883116883117,0.3116883116883117,0.3116883116883117,0.3116883116883117,0.30844155844155846,0.30844155844155846,0.30844155844155846,0.30844155844155846,0.30844155844155846,0.30844155844155846,0.30844155844155846,0.3051948051948052,0.3051948051948052,0.3051948051948052,0.3051948051948052,0.30194805194805197,0.30194805194805197,0.30194805194805197,0.30194805194805197,0.30194805194805197,0.2987012987012987,0.2987012987012987,0.2987012987012987,0.2987012987012987,0.2987012987012987,0.2987012987012987,0.2987012987012987,0.2922077922077922,0.2922077922077922,0.2922077922077922,0.2922077922077922,0.288961038961039,0.288961038961039,0.288961038961039,0.288961038961039,0.2857142857142857,0.2857142857142857,0.2857142857142857,0.2857142857142857,0.2824675324675325,0.2824675324675325,0.2824675324675325,0.2824675324675325,0.2824675324675325,0.2824675324675325,0.2824675324675325,0.2824675324675325,0.2792207792207792,0.2792207792207792,0.2792207792207792,0.2792207792207792,0.2792207792207792,0.2792207792207792,0.2792207792207792,0.2792207792207792,0.2792207792207792,0.2792207792207792,0.2792207792207792,0.275974025974026,0.275974025974026,0.275974025974026,0.275974025974026,0.2727272727272727,0.2727272727272727,0.2727272727272727,0.2727272727272727,0.2727272727272727,0.2727272727272727,0.2727272727272727,0.2727272727272727,0.2727272727272727,0.2727272727272727,0.2727272727272727,0.2727272727272727,0.2694805194805195,0.2694805194805195,0.2694805194805195,0.2694805194805195,0.2694805194805195,0.2694805194805195,0.2694805194805195,0.2694805194805195,0.2694805194805195,0.2662337662337662,0.2597402597402597,0.2597402597402597,0.2597402597402597,0.2597402597402597,0.2597402597402597,0.2597402597402597,0.2597402597402597,0.2597402597402597,0.2597402597402597,0.2597402597402597,0.2597402597402597,0.2597402597402597,0.2597402597402597,0.2597402597402597,0.2597402597402597,0.2597402597402597,0.2597402597402597,0.2597402597402597,0.2597402597402597,0.2564935064935065,0.2564935064935065,0.2532467532467532,0.2532467532467532,0.2532467532467532,0.2532467532467532,0.2532467532467532,0.2532467532467532,0.2532467532467532,0.2532467532467532,0.2532467532467532,0.2532467532467532,0.2532467532467532,0.2532467532467532,0.2532467532467532,0.2532467532467532,0.2532467532467532,0.2532467532467532,0.2532467532467532,0.2532467532467532,0.2532467532467532,0.2532467532467532,0.2532467532467532,0.2532467532467532,0.25,0.25,0.2435064935064935,0.2435064935064935,0.2435064935064935,0.2435064935064935,0.2435064935064935,0.2435064935064935,0.2435064935064935,0.2435064935064935,0.2435064935064935,0.2435064935064935,0.2435064935064935,0.2435064935064935,0.2435064935064935,0.2435064935064935,0.2435064935064935,0.2435064935064935,0.2435064935064935,0.2435064935064935,0.2435064935064935,0.2435064935064935,0.237012987012987,0.237012987012987,0.23376623376623376,0.23376623376623376,0.23376623376623376,0.23376623376623376,0.23376623376623376,0.23376623376623376,0.2305194805194805,0.2305194805194805,0.2305194805194805,0.2305194805194805,0.22727272727272727,0.22402597402597402,0.22402597402597402,0.22402597402597402,0.22402597402597402,0.22402597402597402,0.22402597402597402,0.22077922077922077,0.22077922077922077,0.22077922077922077,0.22077922077922077,0.22077922077922077,0.22077922077922077,0.22077922077922077,0.21753246753246752,0.21753246753246752,0.21753246753246752,0.21753246753246752,0.21753246753246752,0.21753246753246752,0.21753246753246752,0.21753246753246752,0.21753246753246752,0.21753246753246752,0.21753246753246752,0.21753246753246752,0.21753246753246752,0.21753246753246752,0.21753246753246752,0.21753246753246752,0.21753246753246752,0.21753246753246752,0.21753246753246752,0.21753246753246752,0.21428571428571427,0.21428571428571427,0.21428571428571427,0.21428571428571427,0.2077922077922078,0.2077922077922078,0.2077922077922078,0.2077922077922078,0.2077922077922078,0.2077922077922078,0.20454545454545456,0.2012987012987013,0.19805194805194806,0.19805194805194806,0.19805194805194806,0.19805194805194806,0.19805194805194806,0.19805194805194806,0.19805194805194806,0.19805194805194806,0.19805194805194806,0.19805194805194806,0.19805194805194806,0.19805194805194806,0.19805194805194806,0.19805194805194806,0.19805194805194806,0.19805194805194806,0.19805194805194806,0.19805194805194806,0.19480519480519481,0.19480519480519481,0.19480519480519481,0.19480519480519481,0.19480519480519481,0.19480519480519481,0.19480519480519481,0.19480519480519481,0.19480519480519481,0.19480519480519481,0.19480519480519481,0.19480519480519481,0.18506493506493507,0.18506493506493507,0.18506493506493507,0.18506493506493507,0.18506493506493507,0.18506493506493507,0.18506493506493507,0.18506493506493507,0.18506493506493507,0.18181818181818182,0.18181818181818182,0.18181818181818182,0.18181818181818182,0.18181818181818182,0.18181818181818182,0.18181818181818182,0.18181818181818182,0.18181818181818182,0.18181818181818182,0.18181818181818182,0.18181818181818182,0.18181818181818182,0.18181818181818182,0.18181818181818182,0.18181818181818182,0.18181818181818182,0.18181818181818182,0.18181818181818182,0.18181818181818182,0.18181818181818182,0.18181818181818182,0.18181818181818182,0.18181818181818182,0.18181818181818182,0.18181818181818182,0.18181818181818182,0.18181818181818182,0.18181818181818182,0.18181818181818182,0.18181818181818182,0.18181818181818182,0.18181818181818182,0.18181818181818182,0.18181818181818182,0.18181818181818182,0.17857142857142858,0.17857142857142858,0.17857142857142858,0.17857142857142858,0.17857142857142858,0.17857142857142858,0.17857142857142858,0.17857142857142858,0.17857142857142858,0.17857142857142858,0.17857142857142858,0.17857142857142858,0.17857142857142858,0.17857142857142858,0.17857142857142858,0.17857142857142858,0.17857142857142858,0.17857142857142858,0.17857142857142858,0.17857142857142858,0.17857142857142858,0.17857142857142858,0.17857142857142858,0.17857142857142858,0.17857142857142858,0.17857142857142858,0.17857142857142858,0.17857142857142858,0.17857142857142858,0.17857142857142858,0.17857142857142858,0.17857142857142858,0.17857142857142858,0.17857142857142858,0.17857142857142858,0.17857142857142858,0.17857142857142858,0.17857142857142858,0.17857142857142858,0.17857142857142858,0.17532467532467533,0.17532467532467533,0.17532467532467533,0.17532467532467533,0.17532467532467533,0.17532467532467533,0.17532467532467533,0.17532467532467533,0.17532467532467533,0.17532467532467533,0.17532467532467533,0.17532467532467533,0.17532467532467533,0.17532467532467533,0.17532467532467533,0.17532467532467533,0.17532467532467533,0.17532467532467533,0.17532467532467533,0.17532467532467533,0.17532467532467533,0.17532467532467533,0.17532467532467533,0.17532467532467533,0.17532467532467533,0.17532467532467533,0.17532467532467533,0.17532467532467533,0.17532467532467533,0.17532467532467533,0.17532467532467533,0.17532467532467533,0.17532467532467533,0.17532467532467533,0.17532467532467533,0.17207792207792208,0.17207792207792208,0.17207792207792208,0.17207792207792208,0.17207792207792208,0.17207792207792208,0.17207792207792208,0.17207792207792208,0.17207792207792208,0.17207792207792208,0.17207792207792208,0.17207792207792208,0.17207792207792208,0.17207792207792208,0.17207792207792208,0.17207792207792208,0.17207792207792208,0.17207792207792208,0.17207792207792208,0.17207792207792208,0.17207792207792208,0.17207792207792208,0.17207792207792208,0.17207792207792208,0.17207792207792208,0.17207792207792208,0.17207792207792208,0.17207792207792208,0.17207792207792208,0.17207792207792208,0.17207792207792208,0.17207792207792208,0.17207792207792208,0.17207792207792208,0.17207792207792208,0.17207792207792208,0.17207792207792208,0.17207792207792208,0.17207792207792208,0.17207792207792208,0.17207792207792208,0.17207792207792208,0.17207792207792208,0.17207792207792208,0.17207792207792208,0.17207792207792208,0.17207792207792208,0.17207792207792208,0.17207792207792208,0.16883116883116883,0.16883116883116883,0.16883116883116883,0.16883116883116883,0.16883116883116883,0.16883116883116883,0.16883116883116883,0.16883116883116883,0.16883116883116883,0.16883116883116883,0.16558441558441558,0.16558441558441558,0.16558441558441558,0.16558441558441558,0.16558441558441558,0.16558441558441558,0.16558441558441558,0.16558441558441558,0.16558441558441558,0.16558441558441558,0.16558441558441558,0.16558441558441558,0.16558441558441558,0.16558441558441558,0.16558441558441558,0.16558441558441558,0.16558441558441558,0.16558441558441558,0.16558441558441558,0.16558441558441558,0.16558441558441558,0.16558441558441558,0.16558441558441558,0.16558441558441558,0.16558441558441558,0.16558441558441558,0.16558441558441558,0.16558441558441558,0.16558441558441558,0.16558441558441558,0.16558441558441558,0.16558441558441558,0.16558441558441558,0.16558441558441558,0.16558441558441558,0.16558441558441558,0.16558441558441558,0.16558441558441558,0.16558441558441558,0.16558441558441558,0.16558441558441558,0.16558441558441558,0.16558441558441558,0.16558441558441558,0.16558441558441558,0.16558441558441558,0.16558441558441558,0.16558441558441558,0.16558441558441558,0.16558441558441558,0.16558441558441558,0.16558441558441558,0.16558441558441558,0.16558441558441558,0.16558441558441558,0.16558441558441558,0.16558441558441558,0.16558441558441558,0.16558441558441558,0.16558441558441558,0.16558441558441558,0.16558441558441558,0.16558441558441558,0.16558441558441558,0.16558441558441558,0.16558441558441558,0.16558441558441558,0.16558441558441558,0.16558441558441558,0.16558441558441558,0.16558441558441558,0.16558441558441558,0.16558441558441558,0.16558441558441558,0.16558441558441558,0.16558441558441558,0.16558441558441558,0.16558441558441558,0.16558441558441558,0.16558441558441558,0.16558441558441558,0.16233766233766234,0.16233766233766234,0.16233766233766234,0.16233766233766234,0.16233766233766234,0.16233766233766234,0.16233766233766234,0.16233766233766234,0.16233766233766234,0.16233766233766234,0.16233766233766234,0.16233766233766234,0.16233766233766234,0.16233766233766234,0.16233766233766234,0.16233766233766234,0.16233766233766234,0.16233766233766234,0.16233766233766234,0.16233766233766234,0.16233766233766234,0.16233766233766234,0.16233766233766234,0.16233766233766234,0.16233766233766234,0.16233766233766234,0.16233766233766234,0.16233766233766234,0.16233766233766234,0.16233766233766234,0.16233766233766234,0.16233766233766234,0.16233766233766234,0.16233766233766234,0.16233766233766234,0.16233766233766234,0.16233766233766234,0.16233766233766234,0.16233766233766234,0.16233766233766234,0.16233766233766234,0.16233766233766234,0.16233766233766234,0.16233766233766234,0.16233766233766234,0.16233766233766234,0.16233766233766234,0.16233766233766234,0.16233766233766234,0.16233766233766234,0.16233766233766234,0.16233766233766234,0.16233766233766234,0.16233766233766234,0.16233766233766234,0.16233766233766234,0.16233766233766234,0.16233766233766234,0.16233766233766234,0.16233766233766234,0.16233766233766234,0.16233766233766234,0.16233766233766234,0.16233766233766234,0.16233766233766234,0.16233766233766234,0.16233766233766234,0.16233766233766234,0.16233766233766234,0.16233766233766234,0.16233766233766234,0.16233766233766234,0.16233766233766234,0.16233766233766234,0.16233766233766234,0.16233766233766234,0.16233766233766234,0.16233766233766234,0.16233766233766234,0.16233766233766234,0.1590909090909091,0.1590909090909091,0.1590909090909091,0.1590909090909091,0.1590909090909091,0.1590909090909091,0.1590909090909091,0.1590909090909091,0.1590909090909091,0.1590909090909091,0.1590909090909091,0.1590909090909091,0.1590909090909091,0.1590909090909091,0.1590909090909091,0.1590909090909091,0.1590909090909091,0.1590909090909091,0.1590909090909091,0.1590909090909091,0.1590909090909091,0.1590909090909091,0.1590909090909091,0.1590909090909091,0.1590909090909091,0.1590909090909091,0.1590909090909091,0.1590909090909091,0.1590909090909091,0.1590909090909091,0.1590909090909091,0.1590909090909091,0.1590909090909091,0.1590909090909091,0.1590909090909091,0.1590909090909091,0.1590909090909091,0.1590909090909091,0.1590909090909091,0.1590909090909091,0.1590909090909091,0.1590909090909091,0.1590909090909091,0.1590909090909091,0.1590909090909091,0.1590909090909091,0.1590909090909091,0.1590909090909091,0.1590909090909091,0.1590909090909091,0.1590909090909091,0.1590909090909091,0.1590909090909091,0.1590909090909091,0.1590909090909091,0.1590909090909091,0.1590909090909091,0.1590909090909091,0.1590909090909091,0.1590909090909091,0.1590909090909091,0.1590909090909091,0.1590909090909091,0.1590909090909091,0.1590909090909091,0.1590909090909091,0.1590909090909091,0.1590909090909091,0.1590909090909091,0.1590909090909091,0.1590909090909091,0.1590909090909091,0.1590909090909091,0.1590909090909091,0.1590909090909091,0.1590909090909091,0.1590909090909091,0.1590909090909091,0.1590909090909091,0.1590909090909091,0.1590909090909091,0.1590909090909091,0.1590909090909091,0.1590909090909091,0.1590909090909091,0.1590909090909091,0.1590909090909091,0.1590909090909091,0.1590909090909091,0.1590909090909091,0.1590909090909091,0.1590909090909091,0.1590909090909091,0.1590909090909091,0.1590909090909091,0.1590909090909091,0.1590909090909091,0.1590909090909091,0.1590909090909091,0.1590909090909091,0.1590909090909091,0.1590909090909091,0.1590909090909091,0.1590909090909091,0.1590909090909091,0.1590909090909091,0.1590909090909091,0.1590909090909091,0.1590909090909091,0.1590909090909091,0.1590909090909091,0.1590909090909091,0.1590909090909091,0.1590909090909091,0.1590909090909091,0.1590909090909091,0.1590909090909091,0.1590909090909091,0.1590909090909091,0.1590909090909091,0.1590909090909091,0.1590909090909091,0.1590909090909091,0.1590909090909091,0.1590909090909091,0.1590909090909091,0.1590909090909091,0.1590909090909091,0.1590909090909091,0.1590909090909091,0.1590909090909091,0.1590909090909091,0.1590909090909091,0.1590909090909091,0.1590909090909091,0.1590909090909091,0.1590909090909091,0.1590909090909091,0.1590909090909091,0.1590909090909091,0.1590909090909091,0.1590909090909091,0.1590909090909091,0.1590909090909091,0.1590909090909091,0.1590909090909091,0.1590909090909091,0.1590909090909091,0.1590909090909091,0.1590909090909091,0.1590909090909091,0.1590909090909091,0.1590909090909091,0.1590909090909091,0.1590909090909091,0.1590909090909091,0.1590909090909091,0.1590909090909091,0.1590909090909091,0.1590909090909091,0.1590909090909091,0.1590909090909091,0.1590909090909091,0.1590909090909091,0.1590909090909091,0.1590909090909091,0.1590909090909091,0.1590909090909091,0.1590909090909091,0.1590909090909091,0.1590909090909091,0.1590909090909091,0.1590909090909091,0.1590909090909091,0.1590909090909091,0.1590909090909091,0.1590909090909091,0.1590909090909091,0.1590909090909091,0.1590909090909091,0.1590909090909091,0.1590909090909091,0.1590909090909091,0.1590909090909091,0.1590909090909091,0.1590909090909091,0.1590909090909091,0.1590909090909091,0.1590909090909091,0.1590909090909091,0.1590909090909091,0.1590909090909091,0.1590909090909091,0.1590909090909091,0.1590909090909091,0.1590909090909091,0.1590909090909091,0.1590909090909091,0.1590909090909091,0.1590909090909091,0.1590909090909091,0.1590909090909091,0.1590909090909091,0.1590909090909091,0.1590909090909091,0.1590909090909091,0.1590909090909091,0.1590909090909091,0.1590909090909091,0.1590909090909091,0.1590909090909091,0.1590909090909091,0.1590909090909091,0.1590909090909091,0.1590909090909091,0.1590909090909091,0.1590909090909091,0.1590909090909091,0.1590909090909091,0.1590909090909091,0.1590909090909091,0.1590909090909091,0.1590909090909091,0.1590909090909091,0.1590909090909091,0.1590909090909091,0.1590909090909091,0.1590909090909091,0.1590909090909091,0.1590909090909091,0.1590909090909091,0.1590909090909091,0.1590909090909091,0.1590909090909091,0.1590909090909091,0.1590909090909091,0.1590909090909091,0.1590909090909091,0.1590909090909091,0.1590909090909091,0.1590909090909091,0.1590909090909091,0.1590909090909091,0.1590909090909091,0.1590909090909091,0.1590909090909091,0.1590909090909091,0.1590909090909091,0.1590909090909091,0.1590909090909091,0.1590909090909091,0.1590909090909091,0.1590909090909091,0.1590909090909091,0.1590909090909091,0.1590909090909091,0.1590909090909091,0.1590909090909091,0.1590909090909091,0.1590909090909091,0.1590909090909091,0.1590909090909091,0.1590909090909091,0.1590909090909091,0.1590909090909091,0.1590909090909091,0.1590909090909091,0.1590909090909091,0.1590909090909091,0.1590909090909091,0.1590909090909091,0.1590909090909091,0.1590909090909091,0.1590909090909091,0.1590909090909091,0.1590909090909091,0.1590909090909091,0.1590909090909091,0.1590909090909091,0.1590909090909091,0.1590909090909091,0.1590909090909091,0.1590909090909091,0.1590909090909091,0.1590909090909091,0.1590909090909091,0.1590909090909091,0.1590909090909091,0.1590909090909091,0.1590909090909091,0.1590909090909091,0.1590909090909091,0.1590909090909091,0.1590909090909091,0.1590909090909091,0.1590909090909091,0.1590909090909091,0.1590909090909091,0.1590909090909091,0.1590909090909091,0.1590909090909091,0.1590909090909091,0.1590909090909091,0.1590909090909091,0.1590909090909091,0.1590909090909091,0.1590909090909091,0.1590909090909091,0.1590909090909091,0.1590909090909091,0.1590909090909091,0.1590909090909091,0.1590909090909091,0.1590909090909091,0.1590909090909091,0.1590909090909091,0.1590909090909091,0.1590909090909091,0.1590909090909091,0.1590909090909091,0.1590909090909091,0.1590909090909091,0.1590909090909091,0.1590909090909091,0.15584415584415584,0.15584415584415584,0.15584415584415584,0.15584415584415584,0.15584415584415584,0.15584415584415584,0.15584415584415584,0.15584415584415584,0.15584415584415584,0.15584415584415584,0.15584415584415584,0.15584415584415584,0.15584415584415584,0.15584415584415584,0.15584415584415584,0.15584415584415584,0.15584415584415584,0.15584415584415584,0.15584415584415584,0.15584415584415584,0.15584415584415584,0.15584415584415584,0.15584415584415584,0.15584415584415584,0.15584415584415584,0.15584415584415584,0.15584415584415584,0.15584415584415584,0.15584415584415584,0.15584415584415584,0.15584415584415584,0.15584415584415584,0.15584415584415584,0.15584415584415584,0.15584415584415584,0.15584415584415584,0.15584415584415584,0.15584415584415584,0.15584415584415584,0.15584415584415584,0.15584415584415584,0.15584415584415584,0.15584415584415584,0.15584415584415584,0.15584415584415584,0.15584415584415584,0.15584415584415584,0.15584415584415584,0.15584415584415584,0.15584415584415584,0.15584415584415584,0.15584415584415584,0.15584415584415584,0.15584415584415584,0.15584415584415584,0.15584415584415584,0.15584415584415584,0.15584415584415584,0.15584415584415584,0.15584415584415584,0.15584415584415584,0.15584415584415584,0.15584415584415584,0.15584415584415584,0.15584415584415584,0.15584415584415584,0.15584415584415584,0.15584415584415584,0.15584415584415584,0.15584415584415584,0.15584415584415584,0.15584415584415584,0.15584415584415584,0.15584415584415584,0.15584415584415584,0.15584415584415584,0.15584415584415584,0.15584415584415584,0.15584415584415584,0.15584415584415584,0.15584415584415584,0.15584415584415584,0.15584415584415584,0.15584415584415584,0.15584415584415584,0.15584415584415584,0.15584415584415584,0.15584415584415584,0.15584415584415584,0.15584415584415584,0.15584415584415584,0.15584415584415584,0.15584415584415584,0.15584415584415584,0.15584415584415584,0.15584415584415584,0.15584415584415584,0.15584415584415584,0.15584415584415584,0.15584415584415584,0.15584415584415584,0.15584415584415584,0.15584415584415584,0.15584415584415584,0.15584415584415584,0.15584415584415584,0.15584415584415584,0.15584415584415584,0.15584415584415584,0.15584415584415584,0.15584415584415584,0.15584415584415584,0.15584415584415584,0.15584415584415584,0.15584415584415584,0.15584415584415584,0.15584415584415584,0.1525974025974026,0.1525974025974026,0.1525974025974026,0.1525974025974026,0.1525974025974026,0.1525974025974026,0.1525974025974026,0.1525974025974026,0.1525974025974026,0.1525974025974026,0.1525974025974026,0.1525974025974026,0.1525974025974026,0.1525974025974026,0.1525974025974026,0.1525974025974026,0.1525974025974026,0.1525974025974026,0.1525974025974026,0.1525974025974026,0.1525974025974026,0.1525974025974026,0.1525974025974026,0.1525974025974026,0.1525974025974026,0.1525974025974026,0.1525974025974026,0.1525974025974026,0.1525974025974026,0.1525974025974026,0.1525974025974026,0.1525974025974026,0.1525974025974026,0.1525974025974026,0.1525974025974026,0.1525974025974026,0.1525974025974026,0.1525974025974026,0.1525974025974026,0.14935064935064934,0.14935064935064934,0.1461038961038961,0.1461038961038961,0.1461038961038961,0.1461038961038961,0.1461038961038961,0.1461038961038961,0.1461038961038961,0.1461038961038961,0.1461038961038961,0.1461038961038961,0.14285714285714285,0.14285714285714285,0.14285714285714285,0.14285714285714285,0.14285714285714285,0.14285714285714285,0.14285714285714285,0.14285714285714285,0.14285714285714285,0.14285714285714285,0.14285714285714285,0.14285714285714285,0.14285714285714285,0.14285714285714285,0.14285714285714285,0.14285714285714285,0.14285714285714285,0.14285714285714285,0.14285714285714285,0.14285714285714285,0.14285714285714285,0.14285714285714285,0.14285714285714285,0.14285714285714285,0.14285714285714285,0.14285714285714285,0.14285714285714285,0.14285714285714285,0.14285714285714285,0.14285714285714285,0.14285714285714285,0.14285714285714285,0.1396103896103896,0.1396103896103896,0.1396103896103896,0.1396103896103896,0.1396103896103896,0.1396103896103896,0.1396103896103896,0.1396103896103896,0.1396103896103896,0.1396103896103896,0.1396103896103896,0.1396103896103896,0.1396103896103896,0.1396103896103896,0.1396103896103896,0.1396103896103896,0.1396103896103896,0.1396103896103896,0.1396103896103896,0.1396103896103896,0.13636363636363635,0.13636363636363635,0.13636363636363635,0.13636363636363635,0.13636363636363635,0.13636363636363635,0.13636363636363635,0.13636363636363635,0.13636363636363635,0.13636363636363635,0.13636363636363635,0.13636363636363635,0.13636363636363635,0.13636363636363635,0.13636363636363635,0.13636363636363635,0.13636363636363635,0.13636363636363635,0.13636363636363635,0.13636363636363635,0.13636363636363635,0.13636363636363635,0.13636363636363635,0.13636363636363635,0.13636363636363635,0.13636363636363635,0.13636363636363635,0.13636363636363635,0.13636363636363635,0.13636363636363635,0.13636363636363635,0.13636363636363635,0.13636363636363635,0.13636363636363635,0.13636363636363635,0.13636363636363635,0.13636363636363635,0.13636363636363635,0.13636363636363635,0.13636363636363635,0.13636363636363635,0.13636363636363635,0.13636363636363635,0.13636363636363635,0.13636363636363635,0.13636363636363635,0.13636363636363635,0.13636363636363635,0.13636363636363635,0.13636363636363635,0.13636363636363635,0.13636363636363635,0.13636363636363635,0.13636363636363635,0.1331168831168831,0.1331168831168831,0.1331168831168831,0.1331168831168831,0.1331168831168831,0.1331168831168831,0.1331168831168831,0.1331168831168831,0.1331168831168831,0.1331168831168831,0.1331168831168831,0.1331168831168831,0.1331168831168831,0.1331168831168831,0.1331168831168831,0.1331168831168831,0.1331168831168831,0.1331168831168831,0.1331168831168831,0.1331168831168831,0.1331168831168831,0.1331168831168831,0.1331168831168831,0.1331168831168831,0.1331168831168831,0.1331168831168831,0.1331168831168831,0.1331168831168831,0.1331168831168831,0.1331168831168831,0.1331168831168831,0.1331168831168831,0.1331168831168831,0.1331168831168831,0.1331168831168831,0.1331168831168831,0.1331168831168831,0.1331168831168831,0.1331168831168831,0.1331168831168831,0.1331168831168831,0.1331168831168831,0.1331168831168831,0.1331168831168831,0.1331168831168831,0.1331168831168831,0.1331168831168831,0.1331168831168831,0.1331168831168831,0.1331168831168831,0.1331168831168831,0.1331168831168831,0.1331168831168831,0.1331168831168831,0.12987012987012986,0.12987012987012986,0.12987012987012986,0.12987012987012986,0.12987012987012986,0.12987012987012986,0.12987012987012986,0.12987012987012986,0.12987012987012986,0.12987012987012986,0.12987012987012986,0.12987012987012986,0.12987012987012986,0.12987012987012986,0.12987012987012986,0.12987012987012986,0.12987012987012986,0.12987012987012986,0.12987012987012986,0.12987012987012986,0.12987012987012986,0.12987012987012986,0.12987012987012986,0.1266233766233766,0.1266233766233766,0.1266233766233766,0.1266233766233766,0.1266233766233766,0.1266233766233766,0.1266233766233766,0.1266233766233766,0.1266233766233766,0.1266233766233766,0.1266233766233766,0.1266233766233766,0.1266233766233766,0.1266233766233766,0.1266233766233766,0.1266233766233766,0.1266233766233766,0.1266233766233766,0.12337662337662338,0.12337662337662338,0.12337662337662338,0.12337662337662338,0.12337662337662338,0.12337662337662338,0.12337662337662338,0.12337662337662338,0.12337662337662338,0.12337662337662338,0.12337662337662338,0.12337662337662338,0.12337662337662338,0.12337662337662338,0.12337662337662338,0.12337662337662338,0.12337662337662338,0.12337662337662338,0.12337662337662338,0.12337662337662338,0.12337662337662338,0.12337662337662338,0.12337662337662338,0.12337662337662338,0.12337662337662338,0.12337662337662338,0.12337662337662338,0.12337662337662338,0.12337662337662338,0.12337662337662338,0.12337662337662338,0.12337662337662338,0.12337662337662338,0.12337662337662338,0.12337662337662338,0.12337662337662338,0.12337662337662338,0.12337662337662338,0.12337662337662338,0.12337662337662338,0.12337662337662338,0.12337662337662338,0.12337662337662338,0.12337662337662338,0.12337662337662338,0.12337662337662338,0.12337662337662338,0.12337662337662338,0.12337662337662338,0.12337662337662338,0.12337662337662338,0.12337662337662338,0.12337662337662338,0.12337662337662338,0.12337662337662338,0.12337662337662338,0.12337662337662338,0.12337662337662338,0.12337662337662338,0.12337662337662338,0.12337662337662338,0.12337662337662338,0.12337662337662338,0.12337662337662338,0.12337662337662338,0.12337662337662338,0.12337662337662338,0.12337662337662338,0.12337662337662338,0.12337662337662338,0.12337662337662338,0.12337662337662338,0.12337662337662338,0.12337662337662338,0.12337662337662338,0.12337662337662338,0.12337662337662338,0.12337662337662338,0.12337662337662338,0.12337662337662338,0.12337662337662338,0.12337662337662338,0.12337662337662338,0.12337662337662338,0.12337662337662338,0.12337662337662338,0.12337662337662338,0.12337662337662338,0.12337662337662338,0.12337662337662338,0.12337662337662338,0.12337662337662338,0.12337662337662338,0.12337662337662338,0.12337662337662338,0.12337662337662338,0.12337662337662338,0.12337662337662338,0.12337662337662338,0.12337662337662338,0.12337662337662338,0.12337662337662338,0.12337662337662338,0.12337662337662338,0.12337662337662338,0.12337662337662338,0.12337662337662338,0.12337662337662338,0.12337662337662338,0.12337662337662338,0.12337662337662338,0.12337662337662338,0.12337662337662338,0.12337662337662338,0.12337662337662338,0.12337662337662338,0.12337662337662338,0.12337662337662338,0.12337662337662338,0.12337662337662338,0.12337662337662338,0.12337662337662338,0.12337662337662338,0.12337662337662338,0.12337662337662338,0.12337662337662338,0.12337662337662338,0.12337662337662338,0.12337662337662338,0.12337662337662338,0.12337662337662338,0.12337662337662338,0.12337662337662338,0.12337662337662338,0.12337662337662338,0.12337662337662338,0.12337662337662338,0.12337662337662338,0.12337662337662338,0.12337662337662338,0.12337662337662338,0.12337662337662338,0.12337662337662338,0.12337662337662338,0.12337662337662338,0.12337662337662338,0.12337662337662338,0.12337662337662338,0.12337662337662338,0.12337662337662338,0.12337662337662338,0.12337662337662338,0.12337662337662338,0.12337662337662338,0.12337662337662338,0.12337662337662338,0.12337662337662338,0.12337662337662338,0.12337662337662338,0.12337662337662338,0.12337662337662338,0.12337662337662338,0.12337662337662338,0.12337662337662338,0.12337662337662338,0.12337662337662338,0.12337662337662338,0.12337662337662338,0.12337662337662338,0.12337662337662338,0.12337662337662338,0.12337662337662338,0.12337662337662338,0.12337662337662338,0.12337662337662338,0.12337662337662338,0.12337662337662338,0.12337662337662338,0.12337662337662338,0.12337662337662338,0.12337662337662338,0.12337662337662338,0.12337662337662338,0.12337662337662338,0.12337662337662338,0.12337662337662338,0.12337662337662338,0.12337662337662338,0.12337662337662338,0.12337662337662338,0.12337662337662338,0.12337662337662338,0.12337662337662338,0.12337662337662338,0.12337662337662338,0.12337662337662338,0.12337662337662338,0.12337662337662338,0.12337662337662338,0.12337662337662338,0.12337662337662338,0.12337662337662338,0.12337662337662338,0.12337662337662338,0.12337662337662338,0.12337662337662338,0.12337662337662338,0.12337662337662338,0.12337662337662338,0.12337662337662338,0.12337662337662338,0.12337662337662338,0.12337662337662338,0.12337662337662338,0.12337662337662338,0.12337662337662338,0.12337662337662338,0.12337662337662338,0.12337662337662338,0.12337662337662338,0.12337662337662338,0.12337662337662338,0.12337662337662338,0.12337662337662338,0.12337662337662338,0.12337662337662338,0.12337662337662338,0.12337662337662338,0.12337662337662338,0.12337662337662338,0.12337662337662338,0.12337662337662338,0.12337662337662338,0.12337662337662338,0.12337662337662338,0.12337662337662338,0.12337662337662338,0.12337662337662338,0.12337662337662338,0.12337662337662338,0.12337662337662338,0.12337662337662338,0.12337662337662338,0.12337662337662338,0.12337662337662338,0.12337662337662338,0.12337662337662338,0.12337662337662338,0.12337662337662338,0.12337662337662338,0.12337662337662338,0.12337662337662338,0.12337662337662338,0.12337662337662338,0.12337662337662338,0.12337662337662338,0.12337662337662338,0.12337662337662338,0.12337662337662338,0.12337662337662338,0.12337662337662338,0.12337662337662338,0.12337662337662338,0.12337662337662338,0.12337662337662338,0.12337662337662338,0.12337662337662338,0.12337662337662338,0.12337662337662338,0.12337662337662338,0.12337662337662338,0.12337662337662338,0.12337662337662338,0.12337662337662338,0.12337662337662338,0.12337662337662338,0.12337662337662338,0.12337662337662338,0.12337662337662338,0.12337662337662338,0.12337662337662338,0.12337662337662338,0.12337662337662338,0.12337662337662338,0.12337662337662338,0.12012987012987013,0.12012987012987013,0.12012987012987013,0.12012987012987013,0.12012987012987013,0.12012987012987013,0.12012987012987013,0.12012987012987013,0.12012987012987013,0.12012987012987013,0.12012987012987013,0.12012987012987013,0.12012987012987013,0.12012987012987013,0.12012987012987013,0.12012987012987013,0.12012987012987013,0.12012987012987013,0.12012987012987013,0.12012987012987013,0.12012987012987013,0.12012987012987013,0.12012987012987013,0.12012987012987013,0.12012987012987013,0.12012987012987013,0.12012987012987013,0.12012987012987013,0.12012987012987013,0.12012987012987013,0.12012987012987013,0.12012987012987013,0.12012987012987013,0.12012987012987013,0.12012987012987013,0.12012987012987013,0.12012987012987013,0.12012987012987013,0.12012987012987013,0.12012987012987013,0.12012987012987013,0.12012987012987013,0.12012987012987013,0.12012987012987013,0.12012987012987013,0.12012987012987013,0.12012987012987013,0.12012987012987013,0.12012987012987013,0.12012987012987013,0.12012987012987013,0.12012987012987013,0.12012987012987013,0.12012987012987013,0.12012987012987013,0.12012987012987013,0.12012987012987013,0.12012987012987013,0.12012987012987013,0.12012987012987013,0.12012987012987013,0.12012987012987013,0.12012987012987013,0.12012987012987013,0.12012987012987013,0.12012987012987013,0.12012987012987013,0.12012987012987013,0.12012987012987013,0.12012987012987013,0.12012987012987013,0.12012987012987013,0.12012987012987013,0.12012987012987013,0.12012987012987013,0.12012987012987013,0.12012987012987013,0.12012987012987013,0.12012987012987013,0.12012987012987013,0.12012987012987013,0.12012987012987013,0.12012987012987013,0.12012987012987013,0.12012987012987013,0.12012987012987013,0.12012987012987013,0.12012987012987013,0.12012987012987013,0.12012987012987013,0.12012987012987013,0.12012987012987013,0.12012987012987013,0.12012987012987013,0.12012987012987013,0.12012987012987013,0.12012987012987013,0.12012987012987013,0.12012987012987013,0.12012987012987013,0.12012987012987013,0.12012987012987013,0.12012987012987013,0.12012987012987013,0.12012987012987013,0.12012987012987013,0.12012987012987013,0.12012987012987013,0.12012987012987013,0.12012987012987013,0.12012987012987013,0.12012987012987013,0.12012987012987013,0.12012987012987013,0.12012987012987013,0.12012987012987013,0.12012987012987013,0.12012987012987013,0.12012987012987013,0.12012987012987013,0.12012987012987013,0.12012987012987013,0.12012987012987013,0.12012987012987013,0.12012987012987013,0.12012987012987013,0.12012987012987013,0.12012987012987013,0.12012987012987013,0.12012987012987013,0.12012987012987013,0.12012987012987013,0.12012987012987013,0.12012987012987013,0.12012987012987013,0.12012987012987013,0.12012987012987013,0.12012987012987013,0.12012987012987013,0.12012987012987013,0.12012987012987013,0.12012987012987013,0.12012987012987013,0.12012987012987013,0.12012987012987013,0.12012987012987013,0.12012987012987013,0.12012987012987013,0.12012987012987013,0.12012987012987013,0.12012987012987013,0.12012987012987013,0.12012987012987013,0.12012987012987013,0.12012987012987013,0.12012987012987013,0.12012987012987013,0.12012987012987013,0.12012987012987013,0.12012987012987013,0.12012987012987013,0.12012987012987013,0.12012987012987013,0.12012987012987013,0.12012987012987013,0.12012987012987013,0.12012987012987013,0.12012987012987013,0.12012987012987013,0.12012987012987013,0.12012987012987013,0.12012987012987013,0.12012987012987013,0.12012987012987013,0.12012987012987013,0.12012987012987013,0.12012987012987013,0.12012987012987013,0.12012987012987013,0.12012987012987013,0.12012987012987013,0.12012987012987013,0.12012987012987013,0.12012987012987013,0.12012987012987013,0.12012987012987013,0.12012987012987013,0.12012987012987013,0.12012987012987013,0.12012987012987013,0.12012987012987013,0.12012987012987013,0.12012987012987013,0.11688311688311688,0.11688311688311688,0.11688311688311688,0.11688311688311688,0.11688311688311688,0.11688311688311688,0.11688311688311688,0.11688311688311688,0.11688311688311688,0.11688311688311688,0.11688311688311688,0.11688311688311688,0.11688311688311688,0.11688311688311688,0.11688311688311688,0.11688311688311688,0.11688311688311688,0.11688311688311688,0.11688311688311688,0.11688311688311688,0.11688311688311688,0.11688311688311688,0.11688311688311688,0.11688311688311688,0.11688311688311688,0.11688311688311688,0.11688311688311688,0.11688311688311688,0.11688311688311688,0.11688311688311688,0.11688311688311688,0.11688311688311688,0.11688311688311688,0.11688311688311688,0.11688311688311688,0.11688311688311688,0.11688311688311688,0.11688311688311688,0.11688311688311688,0.11688311688311688,0.11688311688311688,0.11688311688311688,0.11688311688311688,0.11688311688311688,0.11688311688311688,0.11688311688311688,0.11363636363636363,0.11363636363636363,0.11363636363636363,0.11363636363636363,0.11363636363636363,0.11363636363636363,0.11363636363636363,0.11363636363636363,0.11363636363636363,0.11363636363636363,0.11363636363636363,0.11363636363636363,0.11038961038961038,0.11038961038961038,0.11038961038961038,0.11038961038961038,0.11038961038961038,0.11038961038961038,0.11038961038961038,0.11038961038961038,0.11038961038961038,0.11038961038961038,0.11038961038961038,0.11038961038961038,0.11038961038961038,0.11038961038961038,0.11038961038961038,0.11038961038961038,0.11038961038961038,0.11038961038961038,0.11038961038961038,0.11038961038961038,0.11038961038961038,0.11038961038961038,0.11038961038961038,0.11038961038961038,0.11038961038961038,0.11038961038961038,0.11038961038961038,0.11038961038961038,0.11038961038961038,0.11038961038961038,0.11038961038961038,0.11038961038961038,0.11038961038961038,0.11038961038961038,0.11038961038961038,0.11038961038961038,0.11038961038961038,0.11038961038961038,0.11038961038961038,0.11038961038961038,0.11038961038961038,0.11038961038961038,0.11038961038961038,0.11038961038961038,0.11038961038961038,0.11038961038961038,0.11038961038961038,0.11038961038961038,0.11038961038961038,0.11038961038961038,0.11038961038961038,0.11038961038961038],\"yaxis\":\"y\",\"type\":\"scattergl\"}],                        {\"template\":{\"data\":{\"histogram2dcontour\":[{\"type\":\"histogram2dcontour\",\"colorbar\":{\"outlinewidth\":0,\"ticks\":\"\"},\"colorscale\":[[0.0,\"#0d0887\"],[0.1111111111111111,\"#46039f\"],[0.2222222222222222,\"#7201a8\"],[0.3333333333333333,\"#9c179e\"],[0.4444444444444444,\"#bd3786\"],[0.5555555555555556,\"#d8576b\"],[0.6666666666666666,\"#ed7953\"],[0.7777777777777778,\"#fb9f3a\"],[0.8888888888888888,\"#fdca26\"],[1.0,\"#f0f921\"]]}],\"choropleth\":[{\"type\":\"choropleth\",\"colorbar\":{\"outlinewidth\":0,\"ticks\":\"\"}}],\"histogram2d\":[{\"type\":\"histogram2d\",\"colorbar\":{\"outlinewidth\":0,\"ticks\":\"\"},\"colorscale\":[[0.0,\"#0d0887\"],[0.1111111111111111,\"#46039f\"],[0.2222222222222222,\"#7201a8\"],[0.3333333333333333,\"#9c179e\"],[0.4444444444444444,\"#bd3786\"],[0.5555555555555556,\"#d8576b\"],[0.6666666666666666,\"#ed7953\"],[0.7777777777777778,\"#fb9f3a\"],[0.8888888888888888,\"#fdca26\"],[1.0,\"#f0f921\"]]}],\"heatmap\":[{\"type\":\"heatmap\",\"colorbar\":{\"outlinewidth\":0,\"ticks\":\"\"},\"colorscale\":[[0.0,\"#0d0887\"],[0.1111111111111111,\"#46039f\"],[0.2222222222222222,\"#7201a8\"],[0.3333333333333333,\"#9c179e\"],[0.4444444444444444,\"#bd3786\"],[0.5555555555555556,\"#d8576b\"],[0.6666666666666666,\"#ed7953\"],[0.7777777777777778,\"#fb9f3a\"],[0.8888888888888888,\"#fdca26\"],[1.0,\"#f0f921\"]]}],\"heatmapgl\":[{\"type\":\"heatmapgl\",\"colorbar\":{\"outlinewidth\":0,\"ticks\":\"\"},\"colorscale\":[[0.0,\"#0d0887\"],[0.1111111111111111,\"#46039f\"],[0.2222222222222222,\"#7201a8\"],[0.3333333333333333,\"#9c179e\"],[0.4444444444444444,\"#bd3786\"],[0.5555555555555556,\"#d8576b\"],[0.6666666666666666,\"#ed7953\"],[0.7777777777777778,\"#fb9f3a\"],[0.8888888888888888,\"#fdca26\"],[1.0,\"#f0f921\"]]}],\"contourcarpet\":[{\"type\":\"contourcarpet\",\"colorbar\":{\"outlinewidth\":0,\"ticks\":\"\"}}],\"contour\":[{\"type\":\"contour\",\"colorbar\":{\"outlinewidth\":0,\"ticks\":\"\"},\"colorscale\":[[0.0,\"#0d0887\"],[0.1111111111111111,\"#46039f\"],[0.2222222222222222,\"#7201a8\"],[0.3333333333333333,\"#9c179e\"],[0.4444444444444444,\"#bd3786\"],[0.5555555555555556,\"#d8576b\"],[0.6666666666666666,\"#ed7953\"],[0.7777777777777778,\"#fb9f3a\"],[0.8888888888888888,\"#fdca26\"],[1.0,\"#f0f921\"]]}],\"surface\":[{\"type\":\"surface\",\"colorbar\":{\"outlinewidth\":0,\"ticks\":\"\"},\"colorscale\":[[0.0,\"#0d0887\"],[0.1111111111111111,\"#46039f\"],[0.2222222222222222,\"#7201a8\"],[0.3333333333333333,\"#9c179e\"],[0.4444444444444444,\"#bd3786\"],[0.5555555555555556,\"#d8576b\"],[0.6666666666666666,\"#ed7953\"],[0.7777777777777778,\"#fb9f3a\"],[0.8888888888888888,\"#fdca26\"],[1.0,\"#f0f921\"]]}],\"mesh3d\":[{\"type\":\"mesh3d\",\"colorbar\":{\"outlinewidth\":0,\"ticks\":\"\"}}],\"scatter\":[{\"fillpattern\":{\"fillmode\":\"overlay\",\"size\":10,\"solidity\":0.2},\"type\":\"scatter\"}],\"parcoords\":[{\"type\":\"parcoords\",\"line\":{\"colorbar\":{\"outlinewidth\":0,\"ticks\":\"\"}}}],\"scatterpolargl\":[{\"type\":\"scatterpolargl\",\"marker\":{\"colorbar\":{\"outlinewidth\":0,\"ticks\":\"\"}}}],\"bar\":[{\"error_x\":{\"color\":\"#2a3f5f\"},\"error_y\":{\"color\":\"#2a3f5f\"},\"marker\":{\"line\":{\"color\":\"#E5ECF6\",\"width\":0.5},\"pattern\":{\"fillmode\":\"overlay\",\"size\":10,\"solidity\":0.2}},\"type\":\"bar\"}],\"scattergeo\":[{\"type\":\"scattergeo\",\"marker\":{\"colorbar\":{\"outlinewidth\":0,\"ticks\":\"\"}}}],\"scatterpolar\":[{\"type\":\"scatterpolar\",\"marker\":{\"colorbar\":{\"outlinewidth\":0,\"ticks\":\"\"}}}],\"histogram\":[{\"marker\":{\"pattern\":{\"fillmode\":\"overlay\",\"size\":10,\"solidity\":0.2}},\"type\":\"histogram\"}],\"scattergl\":[{\"type\":\"scattergl\",\"marker\":{\"colorbar\":{\"outlinewidth\":0,\"ticks\":\"\"}}}],\"scatter3d\":[{\"type\":\"scatter3d\",\"line\":{\"colorbar\":{\"outlinewidth\":0,\"ticks\":\"\"}},\"marker\":{\"colorbar\":{\"outlinewidth\":0,\"ticks\":\"\"}}}],\"scattermapbox\":[{\"type\":\"scattermapbox\",\"marker\":{\"colorbar\":{\"outlinewidth\":0,\"ticks\":\"\"}}}],\"scatterternary\":[{\"type\":\"scatterternary\",\"marker\":{\"colorbar\":{\"outlinewidth\":0,\"ticks\":\"\"}}}],\"scattercarpet\":[{\"type\":\"scattercarpet\",\"marker\":{\"colorbar\":{\"outlinewidth\":0,\"ticks\":\"\"}}}],\"carpet\":[{\"aaxis\":{\"endlinecolor\":\"#2a3f5f\",\"gridcolor\":\"white\",\"linecolor\":\"white\",\"minorgridcolor\":\"white\",\"startlinecolor\":\"#2a3f5f\"},\"baxis\":{\"endlinecolor\":\"#2a3f5f\",\"gridcolor\":\"white\",\"linecolor\":\"white\",\"minorgridcolor\":\"white\",\"startlinecolor\":\"#2a3f5f\"},\"type\":\"carpet\"}],\"table\":[{\"cells\":{\"fill\":{\"color\":\"#EBF0F8\"},\"line\":{\"color\":\"white\"}},\"header\":{\"fill\":{\"color\":\"#C8D4E3\"},\"line\":{\"color\":\"white\"}},\"type\":\"table\"}],\"barpolar\":[{\"marker\":{\"line\":{\"color\":\"#E5ECF6\",\"width\":0.5},\"pattern\":{\"fillmode\":\"overlay\",\"size\":10,\"solidity\":0.2}},\"type\":\"barpolar\"}],\"pie\":[{\"automargin\":true,\"type\":\"pie\"}]},\"layout\":{\"autotypenumbers\":\"strict\",\"colorway\":[\"#636efa\",\"#EF553B\",\"#00cc96\",\"#ab63fa\",\"#FFA15A\",\"#19d3f3\",\"#FF6692\",\"#B6E880\",\"#FF97FF\",\"#FECB52\"],\"font\":{\"color\":\"#2a3f5f\"},\"hovermode\":\"closest\",\"hoverlabel\":{\"align\":\"left\"},\"paper_bgcolor\":\"white\",\"plot_bgcolor\":\"#E5ECF6\",\"polar\":{\"bgcolor\":\"#E5ECF6\",\"angularaxis\":{\"gridcolor\":\"white\",\"linecolor\":\"white\",\"ticks\":\"\"},\"radialaxis\":{\"gridcolor\":\"white\",\"linecolor\":\"white\",\"ticks\":\"\"}},\"ternary\":{\"bgcolor\":\"#E5ECF6\",\"aaxis\":{\"gridcolor\":\"white\",\"linecolor\":\"white\",\"ticks\":\"\"},\"baxis\":{\"gridcolor\":\"white\",\"linecolor\":\"white\",\"ticks\":\"\"},\"caxis\":{\"gridcolor\":\"white\",\"linecolor\":\"white\",\"ticks\":\"\"}},\"coloraxis\":{\"colorbar\":{\"outlinewidth\":0,\"ticks\":\"\"}},\"colorscale\":{\"sequential\":[[0.0,\"#0d0887\"],[0.1111111111111111,\"#46039f\"],[0.2222222222222222,\"#7201a8\"],[0.3333333333333333,\"#9c179e\"],[0.4444444444444444,\"#bd3786\"],[0.5555555555555556,\"#d8576b\"],[0.6666666666666666,\"#ed7953\"],[0.7777777777777778,\"#fb9f3a\"],[0.8888888888888888,\"#fdca26\"],[1.0,\"#f0f921\"]],\"sequentialminus\":[[0.0,\"#0d0887\"],[0.1111111111111111,\"#46039f\"],[0.2222222222222222,\"#7201a8\"],[0.3333333333333333,\"#9c179e\"],[0.4444444444444444,\"#bd3786\"],[0.5555555555555556,\"#d8576b\"],[0.6666666666666666,\"#ed7953\"],[0.7777777777777778,\"#fb9f3a\"],[0.8888888888888888,\"#fdca26\"],[1.0,\"#f0f921\"]],\"diverging\":[[0,\"#8e0152\"],[0.1,\"#c51b7d\"],[0.2,\"#de77ae\"],[0.3,\"#f1b6da\"],[0.4,\"#fde0ef\"],[0.5,\"#f7f7f7\"],[0.6,\"#e6f5d0\"],[0.7,\"#b8e186\"],[0.8,\"#7fbc41\"],[0.9,\"#4d9221\"],[1,\"#276419\"]]},\"xaxis\":{\"gridcolor\":\"white\",\"linecolor\":\"white\",\"ticks\":\"\",\"title\":{\"standoff\":15},\"zerolinecolor\":\"white\",\"automargin\":true,\"zerolinewidth\":2},\"yaxis\":{\"gridcolor\":\"white\",\"linecolor\":\"white\",\"ticks\":\"\",\"title\":{\"standoff\":15},\"zerolinecolor\":\"white\",\"automargin\":true,\"zerolinewidth\":2},\"scene\":{\"xaxis\":{\"backgroundcolor\":\"#E5ECF6\",\"gridcolor\":\"white\",\"linecolor\":\"white\",\"showbackground\":true,\"ticks\":\"\",\"zerolinecolor\":\"white\",\"gridwidth\":2},\"yaxis\":{\"backgroundcolor\":\"#E5ECF6\",\"gridcolor\":\"white\",\"linecolor\":\"white\",\"showbackground\":true,\"ticks\":\"\",\"zerolinecolor\":\"white\",\"gridwidth\":2},\"zaxis\":{\"backgroundcolor\":\"#E5ECF6\",\"gridcolor\":\"white\",\"linecolor\":\"white\",\"showbackground\":true,\"ticks\":\"\",\"zerolinecolor\":\"white\",\"gridwidth\":2}},\"shapedefaults\":{\"line\":{\"color\":\"#2a3f5f\"}},\"annotationdefaults\":{\"arrowcolor\":\"#2a3f5f\",\"arrowhead\":0,\"arrowwidth\":1},\"geo\":{\"bgcolor\":\"white\",\"landcolor\":\"#E5ECF6\",\"subunitcolor\":\"white\",\"showland\":true,\"showlakes\":true,\"lakecolor\":\"white\"},\"title\":{\"x\":0.05},\"mapbox\":{\"style\":\"light\"}}},\"xaxis\":{\"anchor\":\"y\",\"domain\":[0.0,1.0],\"title\":{\"text\":\"x\"}},\"yaxis\":{\"anchor\":\"x\",\"domain\":[0.0,1.0],\"title\":{\"text\":\"Percent of Dataset with \\u003ex similar samples\"}},\"legend\":{\"tracegroupgap\":0},\"margin\":{\"t\":60}},                        {\"responsive\": true}                    ).then(function(){\n",
              "                            \n",
              "var gd = document.getElementById('34ab1baa-f893-4eeb-b2f1-8005fe88aba8');\n",
              "var x = new MutationObserver(function (mutations, observer) {{\n",
              "        var display = window.getComputedStyle(gd).display;\n",
              "        if (!display || display === 'none') {{\n",
              "            console.log([gd, 'removed!']);\n",
              "            Plotly.purge(gd);\n",
              "            observer.disconnect();\n",
              "        }}\n",
              "}});\n",
              "\n",
              "// Listen for the removal of the full notebook cells\n",
              "var notebookContainer = gd.closest('#notebook-container');\n",
              "if (notebookContainer) {{\n",
              "    x.observe(notebookContainer, {childList: true});\n",
              "}}\n",
              "\n",
              "// Listen for the clearing of the current output cell\n",
              "var outputEl = gd.closest('.output');\n",
              "if (outputEl) {{\n",
              "    x.observe(outputEl, {childList: true});\n",
              "}}\n",
              "\n",
              "                        })                };                            </script>        </div>\n",
              "</body>\n",
              "</html>"
            ]
          },
          "metadata": {}
        }
      ]
    },
    {
      "cell_type": "code",
      "source": [
        "1 - 0.81493506"
      ],
      "metadata": {
        "colab": {
          "base_uri": "https://localhost:8080/"
        },
        "id": "z-Ky5oQJVMwJ",
        "outputId": "2568fdff-6eff-4ea0-dc00-83318902608e"
      },
      "execution_count": 143,
      "outputs": [
        {
          "output_type": "execute_result",
          "data": {
            "text/plain": [
              "0.18506493999999996"
            ]
          },
          "metadata": {},
          "execution_count": 143
        }
      ]
    },
    {
      "cell_type": "code",
      "source": [
        "from Bio.PDB import PDBList\n",
        "def download_pdb_files(pdb_id):\n",
        "    pdbl = PDBList()\n",
        "    pdbl.retrieve_pdb_file(pdb_id, pdir='pdbs', file_format='pdb', overwrite=False)"
      ],
      "metadata": {
        "id": "v9T8YcGWFSxk"
      },
      "execution_count": null,
      "outputs": []
    }
  ]
}